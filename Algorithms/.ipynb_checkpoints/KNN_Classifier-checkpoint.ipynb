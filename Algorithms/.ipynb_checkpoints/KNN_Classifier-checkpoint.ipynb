{
 "cells": [
  {
   "cell_type": "code",
   "execution_count": null,
   "metadata": {},
   "outputs": [],
   "source": [
    "import os\n",
    "import time\n",
    "import nbimporter\n",
    "import numpy as np\n",
    "import backtest as bt\n",
    "import preprocessing as pp\n",
    "import helper_methods as hm\n",
    "from collections import Counter\n",
    "import matplotlib.pyplot as plt\n",
    "from sklearn.neighbors import KNeighborsClassifier"
   ]
  },
  {
   "cell_type": "markdown",
   "metadata": {},
   "source": [
    "### K-NN Classifier Implementation "
   ]
  },
  {
   "cell_type": "code",
   "execution_count": null,
   "metadata": {},
   "outputs": [],
   "source": [
    "class K_Nearest_Neighbours_Classifier:\n",
    "    \n",
    "    def __init__(self, k_neighbours):\n",
    "        self.k_neighbours = k_neighbours\n",
    "    \n",
    "    # This function was meant to train the data - but no explicit training in K-NN\n",
    "    def fit(self, X_train, Y_train):\n",
    "        self.X_train = X_train\n",
    "        self.Y_train = Y_train\n",
    "        return\n",
    "    \n",
    "    \n",
    "    # This function uses the training data and the feature values to the data sample to be predicted on. \n",
    "    # Using the specified number of nearest neighbours, it returns the predicted classification of the specificed data sample\n",
    "    def predict_one(self, x_test_point):\n",
    "        distances = []\n",
    "        for i in range(len(self.X_train)):\n",
    "            # sum of square of distance of each feature - minkowski Distance with p = 2\n",
    "            distance = ((self.X_train[i, :] - x_test_point)**2).sum()\n",
    "            # appending the list of the distance for the point and its index to the list\n",
    "            distances.append([distance, i])\n",
    "\n",
    "        # Sorting using the distance from the sample point\n",
    "        distances = sorted(distances)\n",
    "\n",
    "        targets = []\n",
    "        # Finding the classification of the elements using the first 'k' elemets in the distances list i.e 'k' nearest neighbours\n",
    "        for i in range(self.k_neighbours):\n",
    "            # list of the indices of the 'k' nearest neighbours\n",
    "            index_of_training_data = distances[i][1]\n",
    "\n",
    "            # adding the nearest neighbours to the targets list\n",
    "            targets.append(self.Y_train[index_of_training_data])\n",
    "\n",
    "        # returns the most common entry among the targets\n",
    "        return Counter(targets).most_common(1)[0][0]\n",
    "    \n",
    "    \n",
    "    # This function uses the training data, the data samples to be predicted upon and the value of k\n",
    "    # It return the predicted classification values of the data samples given to it for prediction\n",
    "    def predict(self, x_test_data):\n",
    "        predictions = []\n",
    "\n",
    "        # making prediction for the testing data samples\n",
    "        for x_test in x_test_data:\n",
    "            predictions.append(self.predict_one(x_test))\n",
    "        return predictions\n",
    "    \n",
    "    \n",
    "    # This function uses the training data, the data samples to be predicted upon and the value of k\n",
    "    # It returns the predicted classification of the data samples given to it for prediction \n",
    "    # while updating the training data after each prediction\n",
    "    def predict_and_update(self, x_test_data, y_test_data):\n",
    "        predictions = []\n",
    "\n",
    "        # making prediction for the testing data samples\n",
    "        for i in range(len(x_test_data)):\n",
    "            x_test = x_test_data[i]\n",
    "            y_test = y_test_data[i]\n",
    "\n",
    "            y_pred = self.predict_one(x_test)\n",
    "            predictions.append(y_pred)\n",
    "\n",
    "            # updating the training dataset to include the point just predicted upon\n",
    "            self.X_train = np.append(self.X_train, [x_test], axis=0)\n",
    "            self.Y_train = np.append(self.Y_train, [y_test], axis=0)\n",
    "\n",
    "        return predictions"
   ]
  },
  {
   "cell_type": "markdown",
   "metadata": {},
   "source": [
    "### Using CV to find Optimal parameters\n",
    "\n",
    "Sorting list: https://stackoverflow.com/questions/17555218/python-how-to-sort-a-list-of-lists-by-the-fourth-element-in-each-list  "
   ]
  },
  {
   "cell_type": "code",
   "execution_count": null,
   "metadata": {},
   "outputs": [],
   "source": [
    "def print_parameters_accuracy(accuracies):\n",
    "    print('#Features \\t #Neighbours \\t Accuracy')\n",
    "    for i in range(len(accuracies)):\n",
    "        print(accuracies[i][0], '\\t\\t', accuracies[i][1], '\\t\\t', accuracies[i][2])\n",
    "    print()"
   ]
  },
  {
   "cell_type": "code",
   "execution_count": null,
   "metadata": {},
   "outputs": [],
   "source": [
    "def find_optimal_values(max_features, max_neighbours, num_splits = 10, symbol_name = 'AAPL', use_implementation = True):\n",
    "    accuracies = list()\n",
    "    for num_features in range(1, max_features + 1, 1):\n",
    "        print('Features:', num_features)\n",
    "        \n",
    "        X_train, X_test, Y_train, Y_test = hm.prepare_data(num_features, symbol_name, is_binary_ouput=True)\n",
    "        X_train, X_test, Y_train, Y_test = X_train.values, X_test.values, Y_train.values, Y_test.values\n",
    "        \n",
    "        for k_neighbours in range(1, max_neighbours + 1, 2):\n",
    "            print('Neighbours ------------------------>', k_neighbours)\n",
    "#             knn_tscv = K_Nearest_Neighbours_Classifier(k_neighbours=k_neighbours)\n",
    "            knn_tscv = KNeighborsClassifier(n_neighbors=k_neighbours)\n",
    "#             knn_tscv = KNeighborsClassifier(n_neighbors=int(len(X_train) ** 0.5))\n",
    "            if use_implementation:\n",
    "                neighbour_accuracy = hm.timeSeriesCV(X_train, Y_train, num_splits, knn_tscv, is_classification=True)\n",
    "            else:\n",
    "                neighbour_accuracy = hm.rolling_cross_validation(X_train, Y_train, num_splits, knn_tscv, is_classification=True)\n",
    "            accuracies.append([num_features, k_neighbours, neighbour_accuracy])\n",
    "    \n",
    "    print_parameters_accuracy(accuracies)\n",
    "    \n",
    "    # Sorting the accuracies\n",
    "    accuracies.sort(reverse=True, key=lambda x: x[2])\n",
    "    print_parameters_accuracy(accuracies)\n",
    "    \n",
    "    return accuracies[0][0], accuracies[0][1]"
   ]
  },
  {
   "cell_type": "code",
   "execution_count": null,
   "metadata": {},
   "outputs": [],
   "source": [
    "def get_data_ready(symbol_name, max_features=5, max_neighbours=11):\n",
    "    start_time = time.time()\n",
    "#     num_features, k_neighbours = find_optimal_values(max_features=max_features, max_neighbours=max_neighbours, num_splits=10, symbol_name = symbol_name)\n",
    "    num_features, k_neighbours = 1, 13\n",
    "    end_time = time.time()\n",
    "    print('Time taken for Cross Validation:', end_time - start_time)\n",
    "    \n",
    "    X_train, X_test, Y_train, Y_test = hm.prepare_data(num_features, symbol_name)\n",
    "    X_train, X_test, Y_train, Y_test = X_train.values, X_test.values, Y_train.values, Y_test.values\n",
    "    return X_train, X_test, Y_train, Y_test, k_neighbours    "
   ]
  },
  {
   "cell_type": "markdown",
   "metadata": {},
   "source": [
    "### 1. SKLearn KNN Classifier"
   ]
  },
  {
   "cell_type": "code",
   "execution_count": null,
   "metadata": {},
   "outputs": [],
   "source": [
    "def sklearn_KNN_forecast(X_train, X_test, Y_train, Y_test, k_neighbours):\n",
    "    print('SKLEARN INBUILT')\n",
    "    clf = KNeighborsClassifier(n_neighbors=k_neighbours)\n",
    "    clf.fit(X_train, Y_train)\n",
    "    print('Accuracy Score --', clf.score(X_test, Y_test))"
   ]
  },
  {
   "cell_type": "markdown",
   "metadata": {},
   "source": [
    "### 2. Predicting using Implementation"
   ]
  },
  {
   "cell_type": "code",
   "execution_count": null,
   "metadata": {},
   "outputs": [],
   "source": [
    "def implemented_KNN_forecast(X_train, X_test, Y_train, Y_test, k_neighbours):\n",
    "    knn = K_Nearest_Neighbours_Classifier(k_neighbours)\n",
    "    knn.fit(X_train, Y_train)\n",
    "    \n",
    "    print('IMPLEMENTATION') \n",
    "    Y_pred = knn.predict(X_test)\n",
    "    hm.accuracy_metrics(Y_test, Y_pred)\n",
    "\n",
    "    print('IMPLEMENTATION WITH TRAINING UPDATES') \n",
    "    Y_pred = knn.predict_and_update(X_test, Y_test)\n",
    "#     hm.accuracy_metrics(Y_test, Y_pred)"
   ]
  },
  {
   "cell_type": "markdown",
   "metadata": {},
   "source": [
    "### Running KNN"
   ]
  },
  {
   "cell_type": "code",
   "execution_count": null,
   "metadata": {},
   "outputs": [],
   "source": [
    "def forecast(X_train, X_test, Y_train, Y_test, k_neighbours):\n",
    "    print('Number of Neighbours --', k_neighbours)\n",
    "    sklearn_KNN_forecast(X_train, X_test, Y_train, Y_test, k_neighbours)\n",
    "    implemented_KNN_forecast(X_train, X_test, Y_train, Y_test, k_neighbours)\n",
    "\n",
    "# X_train, X_test, Y_train, Y_test = hm.prepare_data(2)\n",
    "# X_train, X_test, Y_train, Y_test = X_train.values, X_test.values, Y_train.values, Y_test.values\n",
    "# forecast(X_train, X_test, Y_train, Y_test, 9)"
   ]
  },
  {
   "cell_type": "code",
   "execution_count": null,
   "metadata": {},
   "outputs": [],
   "source": [
    "def run_KNN(symbol_name):\n",
    "    max_features = 13\n",
    "    max_neighbours = 21\n",
    "    X_train, X_test, Y_train, Y_test, k_neighbours = get_data_ready(symbol_name, max_features, max_neighbours)\n",
    "    print(X_train)\n",
    "    forecast(X_train, X_test, Y_train, Y_test, k_neighbours)"
   ]
  },
  {
   "cell_type": "code",
   "execution_count": null,
   "metadata": {
    "scrolled": true
   },
   "outputs": [],
   "source": [
    "run_KNN(symbol_name = 'AAPL')"
   ]
  }
 ],
 "metadata": {
  "kernelspec": {
   "display_name": "Python 3",
   "language": "python",
   "name": "python3"
  },
  "language_info": {
   "codemirror_mode": {
    "name": "ipython",
    "version": 3
   },
   "file_extension": ".py",
   "mimetype": "text/x-python",
   "name": "python",
   "nbconvert_exporter": "python",
   "pygments_lexer": "ipython3",
   "version": "3.6.5"
  },
  "toc": {
   "base_numbering": 1,
   "nav_menu": {},
   "number_sections": true,
   "sideBar": true,
   "skip_h1_title": false,
   "title_cell": "Table of Contents",
   "title_sidebar": "Contents",
   "toc_cell": false,
   "toc_position": {},
   "toc_section_display": true,
   "toc_window_display": false
  }
 },
 "nbformat": 4,
 "nbformat_minor": 2
}
