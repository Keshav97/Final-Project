{
 "cells": [
  {
   "cell_type": "code",
   "execution_count": 1,
   "metadata": {},
   "outputs": [],
   "source": [
    "import numpy as np\n",
    "import pandas as pd\n",
    "import math"
   ]
  },
  {
   "cell_type": "code",
   "execution_count": 2,
   "metadata": {},
   "outputs": [],
   "source": [
    "# This fumction calculates and returns the Mean Squared Error (MSE) for a model\n",
    "def mean_squared_error(Y_true, Y_pred):\n",
    "    # number of test samples\n",
    "    M = len(Y_true)\n",
    "    total_error = 0\n",
    "    for i in range(M):\n",
    "        total_error += (Y_true[i] - Y_pred[i]) ** 2\n",
    "    mse = total_error / M\n",
    "    return mse"
   ]
  },
  {
   "cell_type": "code",
   "execution_count": 3,
   "metadata": {},
   "outputs": [],
   "source": [
    "# This function splits the data into train and test sets based on the split ratio supplied and \n",
    "# returns the corresponding X and Y values for the train and test data\n",
    "def train_test_split(df, train_ratio):\n",
    "    split_index = int(train_ratio * len(df.index))\n",
    "    \n",
    "    train_data = df.iloc[0:split_index, :]\n",
    "    test_data = df.iloc[split_index:, :]\n",
    "    \n",
    "    X_train, Y_train = train_data.iloc[:, :-1], train_data.iloc[:, -1]\n",
    "    X_test, Y_test = test_data.iloc[:, :-1], test_data.iloc[:, -1]\n",
    "    \n",
    "    return X_train, X_test, Y_train, Y_test"
   ]
  },
  {
   "cell_type": "code",
   "execution_count": 4,
   "metadata": {},
   "outputs": [],
   "source": [
    "# This function splits the input data into corresponding X(features) and Y(output) values\n",
    "# The Y(output) values are assumed to be in the last column of the input data\n",
    "def get_X_Y(data):\n",
    "    X_data = list()\n",
    "    Y_data = list()\n",
    "    for i in data:\n",
    "        X_data.append(i[:-1])\n",
    "        Y_data.append(i[-1])\n",
    "    return X_data, Y_data"
   ]
  },
  {
   "cell_type": "code",
   "execution_count": 21,
   "metadata": {},
   "outputs": [],
   "source": [
    "# INPUT: This function taken in a dataframe with the daily returns of a particular stock\n",
    "# It prepares the data for training by adding corresponding features for each datapoint using n previous returns. \n",
    "# It further splits the built dataframe into training and test sets\n",
    "# RETURN: It returns X and Y values for the train and test sets ready to start work upon\n",
    "def prepare_data(df, num_features):\n",
    "    # number of datapoints in the data frame\n",
    "    M = len(df.index)\n",
    "    \n",
    "    # creating columns for t = (t0 - n) return to t = t0 return\n",
    "    col_names = [str(i) for i in range(num_features, -1, -1)]\n",
    "    \n",
    "    # creating dataframe to store the RETURNS data points with correpsonding features\n",
    "    data = pd.DataFrame()\n",
    "    \n",
    "    for i in range(num_features + 1):\n",
    "        # gets the indices of the datapoints to build the features corresponding to RETURNS at t = t0 - (num_features - i)\n",
    "        indices_to_fetch = df.index[i:(M - num_features + i)]\n",
    "        \n",
    "        temp = df.loc[indices_to_fetch, 'RETURNS']\n",
    "        temp.index = df.index[num_features:]\n",
    "        \n",
    "        data[str(num_features - i)] = temp\n",
    "\n",
    "    return train_test_split(data, 0.75)"
   ]
  },
  {
   "cell_type": "code",
   "execution_count": 6,
   "metadata": {},
   "outputs": [],
   "source": [
    "# This function takes file name at a given location\n",
    "# Returns dataframe corresponding to data in file\n",
    "def read_file(company_symbol = 'AAPL'):\n",
    "    column_names = [\n",
    "                    'INDEX', 'DATE', 'OPEN', \n",
    "                    'HIGH', 'LOW', 'CLOSE',\n",
    "                    'ADJ_CLOSE', 'VOLUME', \n",
    "                    'DIV_AMT', 'SPLIT_COEFF'\n",
    "                   ]\n",
    "#     filepath = '../data/alphaVantage/AAPL-full-daily.csv'\n",
    "    filepath = '../data/alphaVantage/' + company_symbol + '-full-daily_adjusted.csv'\n",
    "    df = pd.read_csv(filepath, skiprows=1, header=None, names=column_names, index_col=['DATE'], parse_dates=['DATE'])\n",
    "    df.drop(columns=['INDEX'], inplace=True)\n",
    "    return df"
   ]
  },
  {
   "cell_type": "code",
   "execution_count": 10,
   "metadata": {},
   "outputs": [],
   "source": [
    "# This function returns the daily returns of the stock based on a specified parameter within the data (Using Taylor series approximation)\n",
    "def data_log_returns(data, param = 'ADJ_CLOSE'):\n",
    "    log_returns = list()\n",
    "    date = list()\n",
    "    for i in range(len(data) - 1):\n",
    "        abs_t1 = math.log10(data.loc[data.index[i], param])\n",
    "        abs_t0 = math.log10(data.loc[data.index[i + 1], param])\n",
    "        log_returns.append(abs_t1 - abs_t0)\n",
    "        date.append(data.index[i])\n",
    "    return pd.DataFrame(log_returns, index=date, columns=['RETURNS'])"
   ]
  },
  {
   "cell_type": "code",
   "execution_count": 20,
   "metadata": {
    "scrolled": false
   },
   "outputs": [],
   "source": [
    "df = read_file()\n",
    "df = data_log_returns(df)\n",
    "num_features = 5\n",
    "X_train, X_test, Y_train, Y_test = prepare_data(df, num_features)"
   ]
  },
  {
   "cell_type": "code",
   "execution_count": 22,
   "metadata": {},
   "outputs": [],
   "source": [
    "def dummy():\n",
    "    print('abc')\n",
    "    return 10"
   ]
  }
 ],
 "metadata": {
  "kernelspec": {
   "display_name": "Python 3",
   "language": "python",
   "name": "python3"
  },
  "language_info": {
   "codemirror_mode": {
    "name": "ipython",
    "version": 3
   },
   "file_extension": ".py",
   "mimetype": "text/x-python",
   "name": "python",
   "nbconvert_exporter": "python",
   "pygments_lexer": "ipython3",
   "version": "3.6.5"
  }
 },
 "nbformat": 4,
 "nbformat_minor": 2
}
