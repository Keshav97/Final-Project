{
 "cells": [
  {
   "cell_type": "code",
   "execution_count": 1,
   "metadata": {},
   "outputs": [
    {
     "name": "stdout",
     "output_type": "stream",
     "text": [
      "Importing Jupyter notebook from preprocessing.ipynb\n"
     ]
    }
   ],
   "source": [
    "import nbimporter\n",
    "import math\n",
    "import numpy as np\n",
    "import pandas as pd\n",
    "import preprocessing as pp\n",
    "\n",
    "from sklearn.metrics import r2_score, accuracy_score, confusion_matrix, classification_report, matthews_corrcoef, cohen_kappa_score\n",
    "from sklearn.metrics import median_absolute_error, mean_absolute_error\n",
    "from sklearn.metrics import median_absolute_error, mean_squared_error, mean_squared_log_error"
   ]
  },
  {
   "cell_type": "markdown",
   "metadata": {},
   "source": [
    "## Error Metrics"
   ]
  },
  {
   "cell_type": "code",
   "execution_count": 2,
   "metadata": {},
   "outputs": [],
   "source": [
    "def classification_metrics(Y_test, Y_pred):\n",
    "    print('Accuracy: ', accuracy_score(Y_test, Y_pred))\n",
    "    print('Matthews Correlation Coefficient: ', matthews_corrcoef(Y_test, Y_pred))\n",
    "    print('Cohen Kappa Score: ', cohen_kappa_score(Y_test, Y_pred))\n",
    "    print('Confustion Matrix')\n",
    "    print(confusion_matrix(Y_test, Y_pred))\n",
    "    print('Classification Report')\n",
    "    print(classification_report(Y_test, Y_pred))"
   ]
  },
  {
   "cell_type": "code",
   "execution_count": 3,
   "metadata": {},
   "outputs": [],
   "source": [
    "def mean_absolute_percentage_error(Y_test, Y_pred): \n",
    "    Y_test = np.array(Y_test)\n",
    "    Y_pred = np.array(Y_pred)\n",
    "    return np.mean(np.abs((Y_test - Y_pred) / Y_test)) * 100\n",
    "\n",
    "def symmetric_mean_absolute_percentage_error(Y_test, Y_pred):\n",
    "    Y_test = np.array(Y_test)\n",
    "    Y_pred = np.array(Y_pred)\n",
    "    return 100/len(Y_test) * np.sum(2 * np.abs(Y_pred - Y_test) / (np.abs(Y_test) + np.abs(Y_pred)))\n",
    "\n",
    "def regression_metrics(Y_test, Y_pred):\n",
    "    print('Coefficient of Determination (R2 Score): ', r2_score(Y_test, Y_pred))\n",
    "    print('Mean Absolute Error: ', mean_absolute_error(Y_test, Y_pred))\n",
    "    print('Median Absolute Error: ', median_absolute_error(Y_test, Y_pred))\n",
    "    print('Mean Squared Error: ', mean_squared_error(Y_test, Y_pred))\n",
    "    print('Root Mean Squared Error: ', math.sqrt(mean_squared_error(Y_test, Y_pred)))\n",
    "    print('Median Absolute Error: ', median_absolute_error(Y_test, Y_pred))\n",
    "    print('Mean Squared Log Error: ', mean_squared_log_error(Y_test, Y_pred))\n",
    "    print('Mean Absolute Percentage Error: ', mean_absolute_percentage_error(Y_test, Y_pred))\n",
    "    print('Symmetric Mean Absolute Percentage Error: ', symmetric_mean_absolute_percentage_error(Y_test, Y_pred))"
   ]
  },
  {
   "cell_type": "markdown",
   "metadata": {},
   "source": [
    "## Dealing with returns"
   ]
  },
  {
   "cell_type": "code",
   "execution_count": 4,
   "metadata": {},
   "outputs": [],
   "source": [
    "# This function returns the daily returns of the stock (Using Taylor series approximation)\n",
    "def data_daily_returns(data):\n",
    "    daily_returns = list()\n",
    "    for i in range(len(data) - 1):\n",
    "        if data[i] <= 0 or data[i + 1] <= 0:\n",
    "            daily_returns.append((data[i + 1] - data[i]) / data[i])\n",
    "            continue\n",
    "        abs_t1 = math.log10(data[i])\n",
    "        abs_t0 = math.log10(data[i + 1])\n",
    "        daily_returns.append(abs_t1 - abs_t0)\n",
    "    return daily_returns"
   ]
  },
  {
   "cell_type": "code",
   "execution_count": 5,
   "metadata": {},
   "outputs": [],
   "source": [
    "# This function converts the returns value to binary outputs for Classification\n",
    "# 1: Positive Return, -1: Negative Return\n",
    "def output_to_binary_indicators(returns):\n",
    "    for i in range(len(returns)):\n",
    "        returns[i] = 1 if returns[i] >= 0 else -1\n",
    "    return returns"
   ]
  },
  {
   "cell_type": "markdown",
   "metadata": {},
   "source": [
    "## Fetching the data"
   ]
  },
  {
   "cell_type": "code",
   "execution_count": 6,
   "metadata": {},
   "outputs": [],
   "source": [
    "def prepare_data(symbol_name, train_ratio):\n",
    "    \"\"\"\n",
    "    INPUT: This function taken in the Symbol of the stock data to be studied and eventually predicted \n",
    "    \n",
    "    It prepares the data for the statistical forecasting by fetching the data for the mentioned stock.\n",
    "    It reverses the data so that the data is ordered from past to future\n",
    "    \n",
    "    RETURN: It returns above prepared values of the stock ready to start work upon\n",
    "    \"\"\"\n",
    "    \n",
    "    df = pp.read_file(symbol_name)\n",
    "    data = list(reversed(df['ADJ_CLOSE']))\n",
    "    return series_split(data, train_ratio)"
   ]
  },
  {
   "cell_type": "markdown",
   "metadata": {},
   "source": [
    "## Splitting data from training and testing"
   ]
  },
  {
   "cell_type": "code",
   "execution_count": 7,
   "metadata": {},
   "outputs": [],
   "source": [
    "# This function splits the data into train and test sets based on the split ratio supplied and \n",
    "# returns the corresponding for the train and test data\n",
    "def series_split(series, train_ratio):\n",
    "    split_index = int(train_ratio * len(series))\n",
    "    train_data = series[0:split_index]\n",
    "    test_data = series[split_index:]\n",
    "    \n",
    "    return train_data, test_data"
   ]
  },
  {
   "cell_type": "markdown",
   "metadata": {},
   "source": [
    "## Cross Validation"
   ]
  },
  {
   "cell_type": "code",
   "execution_count": 9,
   "metadata": {},
   "outputs": [],
   "source": [
    "def statTimeSeriesCV(data, num_splits, algorithm, is_classification):\n",
    "    if num_splits <= 0 or num_splits >= len(data):\n",
    "        num_splits = 10\n",
    "        \n",
    "#     print('Number of folds:', num_splits)\n",
    "#     print('Size train set:', len(data))\n",
    "        \n",
    "    # k is the size of each fold. It is computed dividing the number of rows in data by the num_splits\n",
    "    # This number is then floored and converted into an int\n",
    "    k = int(np.floor(float(len(data)) / num_splits))\n",
    "    \n",
    "    # Initialise the metric values array as an array full of zeroes. It has (num_splits - 1) elements as \n",
    "    # the first element is always used for trainiing and never tested\n",
    "    metric_values = np.zeros(num_splits - 1)\n",
    "    \n",
    "    # Loop from 2 splits to num_splits\n",
    "    for i in range(2, num_splits + 1):\n",
    "        # It is the fraction of the data (used in the iteration) split used for training. Rest is used for testing\n",
    "        split = float(i - 1)/i\n",
    "#         print('Splitting the first ' + str(i) + ' chunks at ' + str(i - 1) + '/' + str(i))       \n",
    "\n",
    "        # Getting the X and Y values to be used in this iteration\n",
    "        temp_data = data[:(k * i)]\n",
    "        \n",
    "        # Index to split according to the split fraction calculated earlier\n",
    "        index = int(np.floor(len(temp_data) * split))\n",
    "        \n",
    "        # Folds used to train and test the model\n",
    "        train_folds = temp_data[:index]\n",
    "        test_folds = temp_data[index:]\n",
    "        \n",
    "        algorithm.fit(train_folds)\n",
    "        Y_pred = algorithm.predict(test_folds, is_classification)\n",
    "        \n",
    "        if is_classification:\n",
    "            test_folds = output_to_binary_indicators(data_daily_returns(train_folds[-1:] + test_folds))\n",
    "            metric_values[i - 2] = cohen_kappa_score(test_folds, Y_pred)\n",
    "#             metric_values[i - 2] = accuracy_score(test_folds, Y_pred)\n",
    "        else:\n",
    "            metric_values[i - 2] = math.sqrt(mean_squared_error(test_folds, Y_pred))\n",
    "#         print('Accuracy of fold ' + str(i) + ':' + str(metric_values[i - 2]))\n",
    "#         print('\\n\\n')\n",
    "    \n",
    "    mean_value = metric_values.mean()\n",
    "    print('Mean Metric Value: ', mean_value, '\\n')\n",
    "    return mean_value"
   ]
  }
 ],
 "metadata": {
  "kernelspec": {
   "display_name": "Python 3",
   "language": "python",
   "name": "python3"
  },
  "language_info": {
   "codemirror_mode": {
    "name": "ipython",
    "version": 3
   },
   "file_extension": ".py",
   "mimetype": "text/x-python",
   "name": "python",
   "nbconvert_exporter": "python",
   "pygments_lexer": "ipython3",
   "version": "3.6.5"
  }
 },
 "nbformat": 4,
 "nbformat_minor": 2
}
