{
 "cells": [
  {
   "cell_type": "code",
   "execution_count": null,
   "metadata": {},
   "outputs": [],
   "source": [
    "import nbimporter\n",
    "import helper_methods as hm\n",
    "import preprocessing as pp\n",
    "import numpy as np\n",
    "import time\n",
    "from sklearn.neighbors import KNeighborsClassifier\n",
    "from sklearn.metrics import accuracy_score\n",
    "from collections import Counter\n",
    "import matplotlib.pyplot as plt"
   ]
  },
  {
   "cell_type": "markdown",
   "metadata": {},
   "source": [
    "### K-NN Classifier Implementation "
   ]
  },
  {
   "cell_type": "code",
   "execution_count": null,
   "metadata": {},
   "outputs": [],
   "source": [
    "# This function was meant to train the data - but no explicit training in K-NN\n",
    "def train(x, y):\n",
    "    return"
   ]
  },
  {
   "cell_type": "code",
   "execution_count": null,
   "metadata": {},
   "outputs": [],
   "source": [
    "# This function takes in the training data and the feature values to the data sample to be predicted on. \n",
    "# Using the specified number of nearest neighbours, it returns the predicted classification of the specificed data sample\n",
    "def predict_one(x_train, y_train, x_test_point, k):\n",
    "    distances = []\n",
    "    for i in range(len(x_train)):\n",
    "        # sum of square of distance of each feature - minkowski Distance with p = 2\n",
    "        distance = ((x_train[i, :] - x_test_point)**2).sum()\n",
    "        # appending the list of the distance for the point and its index to the list\n",
    "        distances.append([distance, i])\n",
    "\n",
    "    # Sorting using the distance from the sample point\n",
    "    distances = sorted(distances)\n",
    "    \n",
    "    targets = []\n",
    "    # Finding the classification of the elements using the first 'k' elemets in the distances list i.e 'k' nearest neighbours\n",
    "    for i in range(k):\n",
    "        # list of the indices of the 'k' nearest neighbours\n",
    "        index_of_training_data = distances[i][1]\n",
    "        \n",
    "        # adding the nearest neighbours to the targets list\n",
    "        targets.append(y_train[index_of_training_data])\n",
    "    \n",
    "    # returns the most common entry among the targets\n",
    "    return Counter(targets).most_common(1)[0][0]"
   ]
  },
  {
   "cell_type": "code",
   "execution_count": null,
   "metadata": {},
   "outputs": [],
   "source": [
    "# This function takes in the training data, the data samples to be predicted upon and the value of k\n",
    "# It return the predicted regression values of the data samples given to it for prediction\n",
    "def predict(x_train, y_train, x_test_data, k):\n",
    "    predictions = []\n",
    "    \n",
    "    # making prediction for the testing data samples\n",
    "    for x_test in x_test_data:\n",
    "        predictions.append(predict_one(x_train, y_train, x_test, k))\n",
    "    return predictions"
   ]
  },
  {
   "cell_type": "code",
   "execution_count": null,
   "metadata": {},
   "outputs": [],
   "source": [
    "# This function takes in the training data, the data samples to be predicted upon and the value of k\n",
    "# It return the predicted classification of the data samples given to it for prediction while updating the training data\n",
    "# after each prediction\n",
    "def predict_and_update(x_train, y_train, x_test_data, k):\n",
    "    predictions = []\n",
    "    \n",
    "    # making prediction for the testing data samples\n",
    "    for x_test in x_test_data:\n",
    "        y_pred = predict_one(x_train, y_train, x_test, k)\n",
    "        predictions.append(y_pred)\n",
    "        \n",
    "        # updating the training dataset to include the point just predicted upon\n",
    "        x_train = np.append(x_train, [x_test], axis=0)\n",
    "        y_train = np.append(y_train, [y_pred], axis=0)\n",
    "        \n",
    "    return predictions"
   ]
  },
  {
   "cell_type": "markdown",
   "metadata": {},
   "source": [
    "### Using CV to find Optimal parameters\n",
    "\n",
    "Sorting list: https://stackoverflow.com/questions/17555218/python-how-to-sort-a-list-of-lists-by-the-fourth-element-in-each-list  "
   ]
  },
  {
   "cell_type": "code",
   "execution_count": null,
   "metadata": {},
   "outputs": [],
   "source": [
    "def print_parameters_accuracy(accuracies):\n",
    "    print('#Features \\t #Neighbours \\t Accuracy')\n",
    "    for i in range(len(accuracies)):\n",
    "        print(accuracies[i][0], '\\t\\t', accuracies[i][1], '\\t\\t', accuracies[i][2])\n",
    "    print()"
   ]
  },
  {
   "cell_type": "code",
   "execution_count": null,
   "metadata": {},
   "outputs": [],
   "source": [
    "def find_optimal_values(max_features, max_neighbours, num_splits = 10, symbol_name = 'AAPL', use_implementation = True):\n",
    "    accuracies = list()\n",
    "    for num_features in range(2, max_features + 1, 2):\n",
    "        print('Features:', num_features)\n",
    "        \n",
    "        X_train, X_test, Y_train, Y_test = hm.prepare_data(num_features, symbol_name, is_binary_ouput=True)\n",
    "        X_train, X_test, Y_train, Y_test = X_train.values, X_test.values, Y_train.values, Y_test.values\n",
    "        \n",
    "        for k_neighbours in range(5, max_neighbours + 1, 5):\n",
    "            if use_implementation:\n",
    "                neighbour_accuracy = hm.timeSeriesCV(X_train, Y_train, num_splits, predict_and_update, [k_neighbours], is_classification=True)\n",
    "            else:\n",
    "                neighbour_accuracy = hm.rolling_cross_validation(X_train, Y_train, num_splits, predict, [k_neighbours], is_classification=True)\n",
    "            accuracies.append([num_features, k_neighbours, neighbour_accuracy])\n",
    "    \n",
    "    print_parameters_accuracy(accuracies)\n",
    "    \n",
    "    # Sorting the accuracies\n",
    "    accuracies.sort(reverse=True, key=lambda x: x[2])\n",
    "    print_parameters_accuracy(accuracies)\n",
    "    \n",
    "    return accuracies[0][0], accuracies[0][1]"
   ]
  },
  {
   "cell_type": "code",
   "execution_count": null,
   "metadata": {
    "scrolled": false
   },
   "outputs": [],
   "source": [
    "start = time.time()\n",
    "num_features, k_neighbours = find_optimal_values(max_features=20, max_neighbours=50, num_splits=10, symbol_name = 'MSFT')\n",
    "print('time taken:', time.time() - start)"
   ]
  },
  {
   "cell_type": "code",
   "execution_count": null,
   "metadata": {},
   "outputs": [],
   "source": [
    "X_train, X_test, Y_train, Y_test = hm.prepare_data(num_features)\n",
    "X_train, X_test, Y_train, Y_test = X_train.values, X_test.values, Y_train.values, Y_test.values"
   ]
  },
  {
   "cell_type": "markdown",
   "metadata": {},
   "source": [
    "### In-built KNN Classifier"
   ]
  },
  {
   "cell_type": "code",
   "execution_count": null,
   "metadata": {},
   "outputs": [],
   "source": [
    "clf = KNeighborsClassifier(n_neighbors=k_neighbours)\n",
    "clf.fit(X_train, Y_train)"
   ]
  },
  {
   "cell_type": "markdown",
   "metadata": {},
   "source": [
    "### Training and Predicting"
   ]
  },
  {
   "cell_type": "code",
   "execution_count": null,
   "metadata": {},
   "outputs": [],
   "source": [
    "print('In-Built KNN (Accuracy) score - k =', k_neighbours, '--', clf.score(X_test, Y_test))\n",
    "# Y_pred = rgr.predict(X_test)"
   ]
  },
  {
   "cell_type": "code",
   "execution_count": null,
   "metadata": {},
   "outputs": [],
   "source": [
    "Y_pred = predict(X_train, Y_train, X_test, k_neighbours)\n",
    "print('Implementaion Accuracy Score --', accuracy_score(Y_test, Y_pred))\n",
    "\n",
    "Y_pred = predict_and_update(X_train, Y_train, X_test, k_neighbours)\n",
    "print('Implementaion Accuracy Score with Training updates --', accuracy_score(Y_test, Y_pred))"
   ]
  }
 ],
 "metadata": {
  "kernelspec": {
   "display_name": "Python 3",
   "language": "python",
   "name": "python3"
  },
  "language_info": {
   "codemirror_mode": {
    "name": "ipython",
    "version": 3
   },
   "file_extension": ".py",
   "mimetype": "text/x-python",
   "name": "python",
   "nbconvert_exporter": "python",
   "pygments_lexer": "ipython3",
   "version": "3.6.5"
  }
 },
 "nbformat": 4,
 "nbformat_minor": 2
}
