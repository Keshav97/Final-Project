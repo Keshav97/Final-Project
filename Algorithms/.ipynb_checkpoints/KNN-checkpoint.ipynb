{
 "cells": [
  {
   "cell_type": "code",
   "execution_count": 1,
   "metadata": {},
   "outputs": [
    {
     "name": "stdout",
     "output_type": "stream",
     "text": [
      "Importing Jupyter notebook from helper_methods.ipynb\n",
      "Importing Jupyter notebook from preprocessing.ipynb\n"
     ]
    }
   ],
   "source": [
    "import nbimporter\n",
    "import helper_methods as hm\n",
    "import preprocessing as pp\n",
    "import numpy as np\n",
    "from sklearn.neighbors import KNeighborsRegressor\n",
    "from sklearn.metrics import r2_score\n",
    "import matplotlib.pyplot as plt"
   ]
  },
  {
   "cell_type": "markdown",
   "metadata": {},
   "source": [
    "### K-NN Regressor Implementation "
   ]
  },
  {
   "cell_type": "code",
   "execution_count": 2,
   "metadata": {},
   "outputs": [],
   "source": [
    "# This function was meant to train the data - but no explicit training in K-NN\n",
    "def train(x, y):\n",
    "    return"
   ]
  },
  {
   "cell_type": "code",
   "execution_count": 3,
   "metadata": {},
   "outputs": [],
   "source": [
    "# This function takes in the training data and the feature values to the data sample to be predicted on. \n",
    "# Using the specified number of nearest neighbours, it returns the predicted value of the specificed data sample\n",
    "def predict_one(x_train, y_train, x_test_point, k):\n",
    "    distances = []\n",
    "    for i in range(len(x_train)):\n",
    "        # sum of square of distance of each feature - minkowski Distance with p = 2\n",
    "        distance = ((x_train[i, :] - x_test_point)**2).sum()\n",
    "        # apending the list of the distance for the point and its index to the list\n",
    "        distances.append([distance, i])\n",
    "\n",
    "    # Sorting using the distance from the sample point\n",
    "    distances = sorted(distances)\n",
    "    \n",
    "    targets = []\n",
    "    # Finding the values of the elements using the first 'k' elemets in the distances list i.e 'k' nearest neighbours\n",
    "    for i in range(k):\n",
    "        # list of the indices of the 'k' nearest neighbours\n",
    "        index_of_training_data = distances[i][1]\n",
    "        \n",
    "        # adding the nearest neighbours to the targets list\n",
    "        targets.append(y_train[index_of_training_data])\n",
    "    \n",
    "    # returns the mean value among the targets\n",
    "    return sum(targets) / len(targets)"
   ]
  },
  {
   "cell_type": "code",
   "execution_count": 4,
   "metadata": {},
   "outputs": [],
   "source": [
    "# This function takes in the training data, the data samples to be predicted upon and the value of k\n",
    "# It return the predicted regression values of the data samples given to it for prediction\n",
    "def predict(x_train, y_train, x_test_data, k):\n",
    "    predictions = []\n",
    "    \n",
    "    # making prediction for the testing data samples\n",
    "    for x_test in x_test_data:\n",
    "        predictions.append(predict_one(x_train, y_train, x_test, k))\n",
    "    return predictions"
   ]
  },
  {
   "cell_type": "markdown",
   "metadata": {},
   "source": [
    "### Using CV to find Optimal parameters\n",
    "\n",
    "Sorting list: https://stackoverflow.com/questions/17555218/python-how-to-sort-a-list-of-lists-by-the-fourth-element-in-each-list  "
   ]
  },
  {
   "cell_type": "code",
   "execution_count": 5,
   "metadata": {},
   "outputs": [],
   "source": [
    "def print_parameters_accuracy(accuracies):\n",
    "    print('#Features \\t #Neighbours \\t Accuracy')\n",
    "    for i in range(len(accuracies)):\n",
    "        print(accuracies[i][0], '\\t\\t', accuracies[i][1], '\\t\\t', accuracies[i][2])\n",
    "    print()"
   ]
  },
  {
   "cell_type": "code",
   "execution_count": 6,
   "metadata": {},
   "outputs": [],
   "source": [
    "def find_optimal_values(max_features, max_neighbours, num_folds = 10, symbol_name = 'AAPL'):\n",
    "    accuracies = list()\n",
    "    for num_features in range(2, max_features + 1, 2):\n",
    "        print('Features:', num_features)\n",
    "        \n",
    "        X_train, X_test, Y_train, Y_test = hm.prepare_data(num_features, symbol_name)\n",
    "        X_train, X_test, Y_train, Y_test = X_train.values, X_test.values, Y_train.values, Y_test.values\n",
    "        \n",
    "        for k_neighbours in range(5, max_neighbours + 1, 5):\n",
    "            neighbour_accuracy = hm.timeSeriesCV(X_train, Y_train, num_folds, predict, [k_neighbours])\n",
    "            accuracies.append([num_features, k_neighbours, neighbour_accuracy])\n",
    "    \n",
    "    print_parameters_accuracy(accuracies)\n",
    "    \n",
    "    # Sorting the accuracies\n",
    "    accuracies.sort(reverse=True, key=lambda x: x[2])\n",
    "    print_parameters_accuracy(accuracies)\n",
    "    \n",
    "    return accuracies[0][0], accuracies[0][1]"
   ]
  },
  {
   "cell_type": "code",
   "execution_count": 7,
   "metadata": {},
   "outputs": [
    {
     "name": "stdout",
     "output_type": "stream",
     "text": [
      "Features: 2\n",
      "Parameters ------------------------> [5]\n",
      "Parameters ------------------------> [10]\n",
      "Parameters ------------------------> [15]\n",
      "Features: 4\n",
      "Parameters ------------------------> [5]\n",
      "Parameters ------------------------> [10]\n",
      "Parameters ------------------------> [15]\n",
      "Features: 6\n",
      "Parameters ------------------------> [5]\n",
      "Parameters ------------------------> [10]\n",
      "Parameters ------------------------> [15]\n",
      "#Features \t #Neighbours \t Accuracy\n",
      "2 \t\t 5 \t\t -0.13931104369050856\n",
      "2 \t\t 10 \t\t -0.0651437856943141\n",
      "2 \t\t 15 \t\t -0.04224558720061612\n",
      "4 \t\t 5 \t\t -0.1496567416343197\n",
      "4 \t\t 10 \t\t -0.061378764461909534\n",
      "4 \t\t 15 \t\t -0.034714238365575384\n",
      "6 \t\t 5 \t\t -0.13346136841717396\n",
      "6 \t\t 10 \t\t -0.06137707564270957\n",
      "6 \t\t 15 \t\t -0.034332691893534245\n",
      "\n",
      "#Features \t #Neighbours \t Accuracy\n",
      "6 \t\t 15 \t\t -0.034332691893534245\n",
      "4 \t\t 15 \t\t -0.034714238365575384\n",
      "2 \t\t 15 \t\t -0.04224558720061612\n",
      "6 \t\t 10 \t\t -0.06137707564270957\n",
      "4 \t\t 10 \t\t -0.061378764461909534\n",
      "2 \t\t 10 \t\t -0.0651437856943141\n",
      "6 \t\t 5 \t\t -0.13346136841717396\n",
      "2 \t\t 5 \t\t -0.13931104369050856\n",
      "4 \t\t 5 \t\t -0.1496567416343197\n",
      "\n"
     ]
    }
   ],
   "source": [
    "num_features, optimal_k = find_optimal_values(max_features=6, max_neighbours=15, num_folds=10, symbol_name = 'MSFT')"
   ]
  },
  {
   "cell_type": "code",
   "execution_count": 8,
   "metadata": {},
   "outputs": [],
   "source": [
    "X_train, X_test, Y_train, Y_test = hm.prepare_data(num_features)\n",
    "X_train, X_test, Y_train, Y_test = X_train.values, X_test.values, Y_train.values, Y_test.values"
   ]
  },
  {
   "cell_type": "markdown",
   "metadata": {},
   "source": [
    "### In-built KNN Regressor"
   ]
  },
  {
   "cell_type": "code",
   "execution_count": 9,
   "metadata": {},
   "outputs": [
    {
     "data": {
      "text/plain": [
       "KNeighborsRegressor(algorithm='auto', leaf_size=30, metric='minkowski',\n",
       "          metric_params=None, n_jobs=1, n_neighbors=15, p=2,\n",
       "          weights='uniform')"
      ]
     },
     "execution_count": 9,
     "metadata": {},
     "output_type": "execute_result"
    }
   ],
   "source": [
    "k_neighbours = optimal_k\n",
    "rgr = KNeighborsRegressor(n_neighbors=k_neighbours)\n",
    "rgr.fit(X_train, Y_train)"
   ]
  },
  {
   "cell_type": "markdown",
   "metadata": {},
   "source": [
    "http://www.fairlynerdy.com/what-is-r-squared/"
   ]
  },
  {
   "cell_type": "markdown",
   "metadata": {},
   "source": [
    "### Training and Predicting"
   ]
  },
  {
   "cell_type": "code",
   "execution_count": 10,
   "metadata": {},
   "outputs": [
    {
     "name": "stdout",
     "output_type": "stream",
     "text": [
      "Mean Squared Error - k = 15 -- 0.0003427041205993654\n",
      "Coeff of determination -- -0.015278219467466103\n"
     ]
    }
   ],
   "source": [
    "k_neighbours = optimal_k\n",
    "Y_pred = predict(X_train, Y_train, X_test, k_neighbours)\n",
    "print('Mean Squared Error - k =', k_neighbours, '--', hm.mean_squared_error(Y_test, Y_pred))\n",
    "print('Coeff of determination --', r2_score(Y_test, Y_pred))"
   ]
  },
  {
   "cell_type": "code",
   "execution_count": 11,
   "metadata": {},
   "outputs": [
    {
     "data": {
      "image/png": "[encoded data removed]",
      "text/plain": [
       "<Figure size 432x288 with 1 Axes>"
      ]
     },
     "metadata": {},
     "output_type": "display_data"
    }
   ],
   "source": [
    "plt.plot(list(range(len(Y_test))), Y_test)\n",
    "plt.plot(list(range(len(Y_test))), Y_pred)\n",
    "plt.show()"
   ]
  },
  {
   "cell_type": "code",
   "execution_count": 12,
   "metadata": {},
   "outputs": [
    {
     "name": "stdout",
     "output_type": "stream",
     "text": [
      "In-Built KNN score - k = 15 -- -0.015278219467466103\n",
      "Mean Squared Error - k = 15 -- 0.0003427041205993654\n"
     ]
    }
   ],
   "source": [
    "print('In-Built KNN score - k =', k_neighbours, '--', rgr.score(X_test, Y_test))\n",
    "Y_pred = rgr.predict(X_test)\n",
    "print('Mean Squared Error - k =', k_neighbours, '--', hm.mean_squared_error(Y_test, Y_pred))"
   ]
  }
 ],
 "metadata": {
  "kernelspec": {
   "display_name": "Python 3",
   "language": "python",
   "name": "python3"
  },
  "language_info": {
   "codemirror_mode": {
    "name": "ipython",
    "version": 3
   },
   "file_extension": ".py",
   "mimetype": "text/x-python",
   "name": "python",
   "nbconvert_exporter": "python",
   "pygments_lexer": "ipython3",
   "version": "3.6.5"
  }
 },
 "nbformat": 4,
 "nbformat_minor": 2
}
