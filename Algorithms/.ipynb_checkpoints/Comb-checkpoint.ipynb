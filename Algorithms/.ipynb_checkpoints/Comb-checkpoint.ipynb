{
 "cells": [
  {
   "cell_type": "code",
   "execution_count": null,
   "metadata": {},
   "outputs": [],
   "source": [
    "import nbimporter\n",
    "import stats_helper as sh\n",
    "import SES as ses\n",
    "import Holt as holt\n",
    "import Damped as damp\n",
    "\n",
    "import time\n",
    "import math\n",
    "import numpy as np\n",
    "from matplotlib import pyplot as plt"
   ]
  },
  {
   "cell_type": "markdown",
   "metadata": {},
   "source": [
    "## Comb - Average Prediction of SES, Holt and Damped"
   ]
  },
  {
   "cell_type": "code",
   "execution_count": null,
   "metadata": {},
   "outputs": [],
   "source": [
    "class Comb:\n",
    "    def __init__(self):\n",
    "        self.alphas = np.arange(0, 1, 0.1)\n",
    "        self.betas = np.arange(0, 1, 0.1)\n",
    "        self.thetas = np.arange(0, 1, 0.1)\n",
    "    \n",
    "    def fit(self, data_train):\n",
    "        self.data_train = data_train\n",
    "        \n",
    "        \n",
    "        ses_alpha = ses.find_optimal_parameters(data_train, 10, self.alphas, False)\n",
    "        ses_alpha = 0.2\n",
    "        holt_alpha, holt_beta = holt.find_optimal_parameters(data_train, 10, self.alphas, self.betas, False)\n",
    "        holt_alpha, holt_beta = 0.8, 0.6\n",
    "        damp_alpha, damp_beta, damp_theta = damp.find_optimal_parameters(data_train, 10, self.alphas, self.betas, self.thetas, False)\n",
    "        \n",
    "        self.SES = ses.SES(ses_alpha)\n",
    "        self.Holt = holt.Holt(holt_alpha, holt_beta)\n",
    "        self.Damp = damp.Damp(damp_alpha, damp_beta, damp_theta)\n",
    "        \n",
    "        self.SES.fit(data_train)\n",
    "        self.Holt.fit(data_train)\n",
    "        self.Damp.fit(data_train)\n",
    "    \n",
    "    def predict(self, data_test, is_classification):\n",
    "        ses_pred = self.SES.predict(data_test, False)\n",
    "        holt_pred = self.Holt.predict(data_test, False)\n",
    "        damp_pred = self.Damp.predict(data_test, False)\n",
    "        pred = np.array([ses_pred, holt_pred, damp_pred])\n",
    "        self.result = list(np.mean(pred, axis=0))\n",
    "        \n",
    "        if is_classification:\n",
    "            return sh.output_to_binary_indicators(sh.data_daily_returns([self.data_train[-1]] + self.result))\n",
    "        \n",
    "        return self.result"
   ]
  },
  {
   "cell_type": "code",
   "execution_count": null,
   "metadata": {},
   "outputs": [],
   "source": [
    "def forecast(data_train, data_test, is_classification):\n",
    "    comb = Comb()\n",
    "    print('Fitting...')\n",
    "    comb.fit(data_train)\n",
    "    \n",
    "    print('Predicting...') \n",
    "    predictions = comb.predict(data_test, True)\n",
    "    \n",
    "    if is_classification:\n",
    "        bin_data_test = sh.output_to_binary_indicators(sh.data_daily_returns(data_train[-1:] + data_test))\n",
    "        sh.classification_metrics(bin_data_test, predictions)\n",
    "    else:\n",
    "        sh.regression_metrics(data_test, predictions)"
   ]
  },
  {
   "cell_type": "code",
   "execution_count": null,
   "metadata": {},
   "outputs": [],
   "source": [
    "def run_Comb(symbol_name):\n",
    "    data_train, data_test = sh.prepare_data(symbol_name, train_ratio = 0.8)\n",
    "    forecast(data_train, data_test, is_classification = True)"
   ]
  },
  {
   "cell_type": "code",
   "execution_count": null,
   "metadata": {},
   "outputs": [],
   "source": [
    "run_Comb(symbol_name = 'AMZN')"
   ]
  }
 ],
 "metadata": {
  "kernelspec": {
   "display_name": "Python 3",
   "language": "python",
   "name": "python3"
  },
  "language_info": {
   "codemirror_mode": {
    "name": "ipython",
    "version": 3
   },
   "file_extension": ".py",
   "mimetype": "text/x-python",
   "name": "python",
   "nbconvert_exporter": "python",
   "pygments_lexer": "ipython3",
   "version": "3.6.5"
  },
  "toc": {
   "base_numbering": 1,
   "nav_menu": {},
   "number_sections": true,
   "sideBar": true,
   "skip_h1_title": false,
   "title_cell": "Table of Contents",
   "title_sidebar": "Contents",
   "toc_cell": false,
   "toc_position": {},
   "toc_section_display": true,
   "toc_window_display": false
  }
 },
 "nbformat": 4,
 "nbformat_minor": 2
}
