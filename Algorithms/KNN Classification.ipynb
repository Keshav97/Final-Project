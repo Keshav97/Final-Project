{
 "cells": [
  {
   "cell_type": "code",
   "execution_count": 1,
   "metadata": {},
   "outputs": [
    {
     "name": "stdout",
     "output_type": "stream",
     "text": [
      "Importing Jupyter notebook from helper_methods.ipynb\n",
      "Importing Jupyter notebook from preprocessing.ipynb\n"
     ]
    }
   ],
   "source": [
    "import nbimporter\n",
    "import helper_methods as hm\n",
    "import preprocessing as pp\n",
    "import numpy as np\n",
    "import time\n",
    "from sklearn.neighbors import KNeighborsClassifier\n",
    "from collections import Counter\n",
    "import matplotlib.pyplot as plt"
   ]
  },
  {
   "cell_type": "markdown",
   "metadata": {},
   "source": [
    "### K-NN Classifier Implementation "
   ]
  },
  {
   "cell_type": "code",
   "execution_count": 2,
   "metadata": {},
   "outputs": [],
   "source": [
    "class K_Nearest_Neighbours_Classifier:\n",
    "    \n",
    "    def __init__(self, k_neighbours):\n",
    "        self.k_neighbours = k_neighbours\n",
    "    \n",
    "    # This function was meant to train the data - but no explicit training in K-NN\n",
    "    def fit(self, X_train, Y_train):\n",
    "        self.X_train = X_train\n",
    "        self.Y_train = Y_train\n",
    "        return\n",
    "    \n",
    "    \n",
    "    # This function uses the training data and the feature values to the data sample to be predicted on. \n",
    "    # Using the specified number of nearest neighbours, it returns the predicted classification of the specificed data sample\n",
    "    def predict_one(self, x_test_point):\n",
    "        distances = []\n",
    "        for i in range(len(self.X_train)):\n",
    "            # sum of square of distance of each feature - minkowski Distance with p = 2\n",
    "            distance = ((self.X_train[i, :] - x_test_point)**2).sum()\n",
    "            # appending the list of the distance for the point and its index to the list\n",
    "            distances.append([distance, i])\n",
    "\n",
    "        # Sorting using the distance from the sample point\n",
    "        distances = sorted(distances)\n",
    "\n",
    "        targets = []\n",
    "        # Finding the classification of the elements using the first 'k' elemets in the distances list i.e 'k' nearest neighbours\n",
    "        for i in range(self.k_neighbours):\n",
    "            # list of the indices of the 'k' nearest neighbours\n",
    "            index_of_training_data = distances[i][1]\n",
    "\n",
    "            # adding the nearest neighbours to the targets list\n",
    "            targets.append(self.Y_train[index_of_training_data])\n",
    "\n",
    "        # returns the most common entry among the targets\n",
    "        return Counter(targets).most_common(1)[0][0]\n",
    "    \n",
    "    \n",
    "    # This function uses the training data, the data samples to be predicted upon and the value of k\n",
    "    # It return the predicted classification values of the data samples given to it for prediction\n",
    "    def predict(self, x_test_data):\n",
    "        predictions = []\n",
    "\n",
    "        # making prediction for the testing data samples\n",
    "        for x_test in x_test_data:\n",
    "            predictions.append(self.predict_one(x_test))\n",
    "        return predictions\n",
    "    \n",
    "    \n",
    "    # This function uses the training data, the data samples to be predicted upon and the value of k\n",
    "    # It returns the predicted classification of the data samples given to it for prediction \n",
    "    # while updating the training data after each prediction\n",
    "    def predict_and_update(self, x_test_data, y_test_data):\n",
    "        predictions = []\n",
    "\n",
    "        # making prediction for the testing data samples\n",
    "        for i in range(len(x_test_data)):\n",
    "            x_test = x_test_data[i]\n",
    "            y_test = y_test_data[i]\n",
    "\n",
    "            y_pred = self.predict_one(x_test)\n",
    "            predictions.append(y_pred)\n",
    "\n",
    "            # updating the training dataset to include the point just predicted upon\n",
    "            self.X_train = np.append(self.X_train, [x_test], axis=0)\n",
    "            self.Y_train = np.append(self.Y_train, [y_test], axis=0)\n",
    "\n",
    "        return predictions"
   ]
  },
  {
   "cell_type": "markdown",
   "metadata": {},
   "source": [
    "### Using CV to find Optimal parameters\n",
    "\n",
    "Sorting list: https://stackoverflow.com/questions/17555218/python-how-to-sort-a-list-of-lists-by-the-fourth-element-in-each-list  "
   ]
  },
  {
   "cell_type": "code",
   "execution_count": 3,
   "metadata": {},
   "outputs": [],
   "source": [
    "def print_parameters_accuracy(accuracies):\n",
    "    print('#Features \\t #Neighbours \\t Accuracy')\n",
    "    for i in range(len(accuracies)):\n",
    "        print(accuracies[i][0], '\\t\\t', accuracies[i][1], '\\t\\t', accuracies[i][2])\n",
    "    print()"
   ]
  },
  {
   "cell_type": "code",
   "execution_count": 4,
   "metadata": {},
   "outputs": [],
   "source": [
    "def find_optimal_values(max_features, max_neighbours, num_splits = 10, symbol_name = 'AAPL', use_implementation = True):\n",
    "    accuracies = list()\n",
    "    for num_features in range(1, max_features + 1, 1):\n",
    "        print('Features:', num_features)\n",
    "        \n",
    "        X_train, X_test, Y_train, Y_test = hm.prepare_data(num_features, symbol_name, is_binary_ouput=True)\n",
    "        X_train, X_test, Y_train, Y_test = X_train.values, X_test.values, Y_train.values, Y_test.values\n",
    "        \n",
    "        for k_neighbours in range(3, max_neighbours + 1, 2):\n",
    "            print('Neighbours ------------------------>', k_neighbours)\n",
    "            knn_tscv = K_Nearest_Neighbours_Classifier(k_neighbours=k_neighbours)\n",
    "            if use_implementation:\n",
    "                neighbour_accuracy = hm.timeSeriesCV(X_train, Y_train, num_splits, knn_tscv, is_classification=True)\n",
    "            else:\n",
    "                neighbour_accuracy = hm.rolling_cross_validation(X_train, Y_train, num_splits, knn_tscv, is_classification=True)\n",
    "            accuracies.append([num_features, k_neighbours, neighbour_accuracy])\n",
    "    \n",
    "    print_parameters_accuracy(accuracies)\n",
    "    \n",
    "    # Sorting the accuracies\n",
    "    accuracies.sort(reverse=True, key=lambda x: x[2])\n",
    "    print_parameters_accuracy(accuracies)\n",
    "    \n",
    "    return accuracies[0][0], accuracies[0][1]"
   ]
  },
  {
   "cell_type": "code",
   "execution_count": 11,
   "metadata": {},
   "outputs": [],
   "source": [
    "def get_data_ready(symbol_name, max_features=5, max_neighbours=11):\n",
    "    start_time = time.time()\n",
    "    num_features, k_neighbours = find_optimal_values(max_features=max_features, max_neighbours=max_neighbours, num_splits=10, symbol_name = symbol_name)\n",
    "    end_time = time.time()\n",
    "    print('Time taken for Cross Validation:', end_time - start_time)\n",
    "    \n",
    "    X_train, X_test, Y_train, Y_test = hm.prepare_data(num_features)\n",
    "    X_train, X_test, Y_train, Y_test = X_train.values, X_test.values, Y_train.values, Y_test.values\n",
    "    return X_train, X_test, Y_train, Y_test, k_neighbours    "
   ]
  },
  {
   "cell_type": "markdown",
   "metadata": {},
   "source": [
    "### 1. SKLearn KNN Classifier"
   ]
  },
  {
   "cell_type": "code",
   "execution_count": 6,
   "metadata": {},
   "outputs": [],
   "source": [
    "def sklearn_KNN_forecast(X_train, X_test, Y_train, Y_test, k_neighbours):\n",
    "    print('SKLEARN INBUILT')\n",
    "    clf = KNeighborsClassifier(n_neighbors=k_neighbours)\n",
    "    clf.fit(X_train, Y_train)\n",
    "    print('Accuracy Score --', clf.score(X_test, Y_test))"
   ]
  },
  {
   "cell_type": "markdown",
   "metadata": {},
   "source": [
    "### 2. Predicting using Implementation"
   ]
  },
  {
   "cell_type": "code",
   "execution_count": 7,
   "metadata": {},
   "outputs": [],
   "source": [
    "def implemented_KNN_forecast(X_train, X_test, Y_train, Y_test, k_neighbours):\n",
    "    knn = K_Nearest_Neighbours_Classifier(k_neighbours)\n",
    "    knn.fit(X_train, Y_train)\n",
    "    \n",
    "    print('IMPLEMENTATION') \n",
    "    Y_pred = knn.predict(X_test)\n",
    "    hm.accuracy_metrics(Y_test, Y_pred)\n",
    "\n",
    "    print('IMPLEMENTATION WITH TRAINING UPDATES') \n",
    "    Y_pred = knn.predict_and_update(X_test, Y_test)\n",
    "    hm.accuracy_metrics(Y_test, Y_pred)"
   ]
  },
  {
   "cell_type": "markdown",
   "metadata": {},
   "source": [
    "### Running KNN"
   ]
  },
  {
   "cell_type": "code",
   "execution_count": 8,
   "metadata": {},
   "outputs": [],
   "source": [
    "def forecast(X_train, X_test, Y_train, Y_test, k_neighbours):\n",
    "    print('Number of Neighbours --', k_neighbours)\n",
    "    sklearn_KNN_forecast(X_train, X_test, Y_train, Y_test, k_neighbours)\n",
    "    implemented_KNN_forecast(X_train, X_test, Y_train, Y_test, k_neighbours)\n",
    "\n",
    "# X_train, X_test, Y_train, Y_test = hm.prepare_data(2)\n",
    "# X_train, X_test, Y_train, Y_test = X_train.values, X_test.values, Y_train.values, Y_test.values\n",
    "# forecast(X_train, X_test, Y_train, Y_test, 9)"
   ]
  },
  {
   "cell_type": "code",
   "execution_count": 12,
   "metadata": {},
   "outputs": [],
   "source": [
    "def run_KNN(symbol_name):\n",
    "    max_features = 5\n",
    "    max_neighbours = 11\n",
    "    X_train, X_test, Y_train, Y_test, k_neighbours = get_data_ready(symbol_name, max_features, max_neighbours)\n",
    "    forecast(X_train, X_test, Y_train, Y_test, k_neighbours)"
   ]
  },
  {
   "cell_type": "code",
   "execution_count": 10,
   "metadata": {
    "scrolled": false
   },
   "outputs": [
    {
     "name": "stdout",
     "output_type": "stream",
     "text": [
      "Features: 1\n",
      "Neighbours ------------------------> 3\n",
      "Implemented Rolling Cross Validation\n",
      "Accuracy: 0.5153797865662272 \n",
      "\n",
      "Neighbours ------------------------> 5\n",
      "Implemented Rolling Cross Validation\n",
      "Accuracy: 0.5156936597614563 \n",
      "\n",
      "Neighbours ------------------------> 7\n",
      "Implemented Rolling Cross Validation\n",
      "Accuracy: 0.5204017576898933 \n",
      "\n",
      "Neighbours ------------------------> 9\n",
      "Implemented Rolling Cross Validation\n",
      "Accuracy: 0.5269930947897049 \n",
      "\n",
      "Features: 2\n",
      "Neighbours ------------------------> 3\n",
      "Implemented Rolling Cross Validation\n",
      "Accuracy: 0.5182046453232894 \n",
      "\n",
      "Neighbours ------------------------> 5\n",
      "Implemented Rolling Cross Validation\n",
      "Accuracy: 0.5188323917137476 \n",
      "\n",
      "Neighbours ------------------------> 7\n",
      "Implemented Rolling Cross Validation\n",
      "Accuracy: 0.5200878844946641 \n",
      "\n",
      "Neighbours ------------------------> 9\n",
      "Implemented Rolling Cross Validation\n",
      "Accuracy: 0.5279347143753923 \n",
      "\n",
      "#Features \t #Neighbours \t Accuracy\n",
      "1 \t\t 3 \t\t 0.5153797865662272\n",
      "1 \t\t 5 \t\t 0.5156936597614563\n",
      "1 \t\t 7 \t\t 0.5204017576898933\n",
      "1 \t\t 9 \t\t 0.5269930947897049\n",
      "2 \t\t 3 \t\t 0.5182046453232894\n",
      "2 \t\t 5 \t\t 0.5188323917137476\n",
      "2 \t\t 7 \t\t 0.5200878844946641\n",
      "2 \t\t 9 \t\t 0.5279347143753923\n",
      "\n",
      "#Features \t #Neighbours \t Accuracy\n",
      "2 \t\t 9 \t\t 0.5279347143753923\n",
      "1 \t\t 9 \t\t 0.5269930947897049\n",
      "1 \t\t 7 \t\t 0.5204017576898933\n",
      "2 \t\t 7 \t\t 0.5200878844946641\n",
      "2 \t\t 5 \t\t 0.5188323917137476\n",
      "2 \t\t 3 \t\t 0.5182046453232894\n",
      "1 \t\t 5 \t\t 0.5156936597614563\n",
      "1 \t\t 3 \t\t 0.5153797865662272\n",
      "\n",
      "Time taken: 210.5215721130371\n",
      "Number of Neighbours -- 9\n",
      "SKLEARN INBUILT\n",
      "Accuracy Score -- 0.5206422018348624\n",
      "IMPLEMENTATION\n",
      "Accuracy: 0.5206422018348624\n",
      "Matthews Correlation Coefficient: 0.04302706987301142\n",
      "Confustion Matrix\n",
      "[[375 271]\n",
      " [356 306]]\n",
      "Classification Report\n",
      "             precision    recall  f1-score   support\n",
      "\n",
      "       -1.0       0.51      0.58      0.54       646\n",
      "        1.0       0.53      0.46      0.49       662\n",
      "\n",
      "avg / total       0.52      0.52      0.52      1308\n",
      "\n",
      "IMPLEMENTATION WITH TRAINING UPDATES\n",
      "Accuracy: 0.5175840978593272\n",
      "Matthews Correlation Coefficient: 0.03618910914502225\n",
      "Confustion Matrix\n",
      "[[359 287]\n",
      " [344 318]]\n",
      "Classification Report\n",
      "             precision    recall  f1-score   support\n",
      "\n",
      "       -1.0       0.51      0.56      0.53       646\n",
      "        1.0       0.53      0.48      0.50       662\n",
      "\n",
      "avg / total       0.52      0.52      0.52      1308\n",
      "\n"
     ]
    }
   ],
   "source": [
    "run_KNN(symbol_name = 'INX')"
   ]
  }
 ],
 "metadata": {
  "kernelspec": {
   "display_name": "Python 3",
   "language": "python",
   "name": "python3"
  },
  "language_info": {
   "codemirror_mode": {
    "name": "ipython",
    "version": 3
   },
   "file_extension": ".py",
   "mimetype": "text/x-python",
   "name": "python",
   "nbconvert_exporter": "python",
   "pygments_lexer": "ipython3",
   "version": "3.6.5"
  }
 },
 "nbformat": 4,
 "nbformat_minor": 2
}
