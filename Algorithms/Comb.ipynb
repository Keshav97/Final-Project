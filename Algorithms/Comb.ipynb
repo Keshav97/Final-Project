{
 "cells": [
  {
   "cell_type": "code",
   "execution_count": 1,
   "metadata": {},
   "outputs": [
    {
     "name": "stdout",
     "output_type": "stream",
     "text": [
      "Importing Jupyter notebook from stats_helper.ipynb\n",
      "Importing Jupyter notebook from preprocessing.ipynb\n",
      "Importing Jupyter notebook from SES.ipynb\n",
      "Importing Jupyter notebook from Holt.ipynb\n"
     ]
    }
   ],
   "source": [
    "import nbimporter\n",
    "import stats_helper as sh\n",
    "import SES as ses\n",
    "import Holt as holt\n",
    "# import Damped\n",
    "\n",
    "import time\n",
    "import math\n",
    "import numpy as np\n",
    "from matplotlib import pyplot as plt"
   ]
  },
  {
   "cell_type": "markdown",
   "metadata": {},
   "source": [
    "## Comb - Average Prediction of SES, Holt and Damped"
   ]
  },
  {
   "cell_type": "code",
   "execution_count": 50,
   "metadata": {},
   "outputs": [],
   "source": [
    "class Comb:\n",
    "    def __init__(self):\n",
    "        self.alphas = np.arange(0, 1, 0.01)\n",
    "        self.betas = np.arange(0, 1, 0.01)\n",
    "    \n",
    "    def fit(self, data_train):\n",
    "        self.data_train = data_train\n",
    "        \n",
    "        ses_alpha = ses.find_optimal_parameters(data_train, 10, self.alphas, False)\n",
    "        holt_alpha, holt_beta = holt.find_optimal_parameters(data_train, 10, self.alphas, self.betas, False)\n",
    "        \n",
    "        self.SES = ses.SES(ses_alpha)\n",
    "        self.Holt = holt.Holt(holt_alpha, holt_beta)\n",
    "        \n",
    "        self.SES.fit(data_train)\n",
    "        self.Holt.fit(data_train)\n",
    "    \n",
    "    def predict(self, data_test, is_classification):\n",
    "        ses_pred = self.SES.predict(data_test, False)\n",
    "        holt_pred = self.Holt.predict(data_test, False)\n",
    "        pred = np.array([ses_pred, holt_pred])\n",
    "        self.result = list(np.mean(pred, axis=0))\n",
    "        \n",
    "        if is_classification:\n",
    "            return sh.output_to_binary_indicators(sh.data_daily_returns([self.data_train[-1]] + self.result))\n",
    "        \n",
    "        return self.result"
   ]
  },
  {
   "cell_type": "code",
   "execution_count": 3,
   "metadata": {},
   "outputs": [],
   "source": [
    "def forecast(data_train, data_test, is_classification):\n",
    "    comb = Comb()\n",
    "    print('Fitting...')\n",
    "    comb.fit(data_train)\n",
    "    \n",
    "    print('Predicting...') \n",
    "    predictions = comb.predict(data_test, True)\n",
    "    \n",
    "    if is_classification:\n",
    "        bin_data_test = sh.output_to_binary_indicators(sh.data_daily_returns(data_train[-1:] + data_test))\n",
    "        sh.classification_metrics(bin_data_test, predictions)\n",
    "    else:\n",
    "        sh.regression_metrics(data_test, predictions)"
   ]
  },
  {
   "cell_type": "code",
   "execution_count": 4,
   "metadata": {},
   "outputs": [],
   "source": [
    "def run_Comb(symbol_name):\n",
    "    data_train, data_test = sh.prepare_data(symbol_name, train_ratio = 0.8)\n",
    "    forecast(data_train, data_test, is_classification = True)"
   ]
  },
  {
   "cell_type": "code",
   "execution_count": 51,
   "metadata": {},
   "outputs": [
    {
     "name": "stdout",
     "output_type": "stream",
     "text": [
      "Fitting...\n",
      "Using Mean Squared Error for CV\n",
      "Alpha \t\t\t Metric\n",
      "0.99 \t\t\t 0.5073319327883128\n",
      "0.98 \t\t\t 0.6446451768166324\n",
      "0.97 \t\t\t 0.8174624324780763\n",
      "0.96 \t\t\t 1.0074823521094016\n",
      "0.9500000000000001 \t\t\t 1.206741521299386\n",
      "\n",
      "Using Mean Squared Error for CV\n",
      "Alpha \t\t\t Beta \t\t\t Metric\n",
      "0.0 \t\t\t 0.08 \t\t\t 49.38339575671946\n",
      "0.0 \t\t\t 0.23 \t\t\t 49.38339575671946\n",
      "0.0 \t\t\t 0.13 \t\t\t 49.38339575671846\n",
      "0.0 \t\t\t 0.19 \t\t\t 49.38339575671846\n",
      "0.0 \t\t\t 0.28 \t\t\t 49.38339575671846\n",
      "\n",
      "Predicting...\n",
      "[94.0121, 95.1686, 95.2804, 95.5133, 96.2588]\n",
      "len: 1047\n",
      "Accuracy:  0.49474689589302767\n",
      "Matthews Correlation Coefficient:  -0.011960709159072214\n",
      "Cohen Kappa Score:  -0.011960162026759535\n",
      "Confustion Matrix\n",
      "[[279 267]\n",
      " [262 239]]\n",
      "Classification Report\n",
      "             precision    recall  f1-score   support\n",
      "\n",
      "         -1       0.52      0.51      0.51       546\n",
      "          1       0.47      0.48      0.47       501\n",
      "\n",
      "avg / total       0.49      0.49      0.49      1047\n",
      "\n"
     ]
    }
   ],
   "source": [
    "run_Comb(symbol_name = 'AAPL')"
   ]
  }
 ],
 "metadata": {
  "kernelspec": {
   "display_name": "Python 3",
   "language": "python",
   "name": "python3"
  },
  "language_info": {
   "codemirror_mode": {
    "name": "ipython",
    "version": 3
   },
   "file_extension": ".py",
   "mimetype": "text/x-python",
   "name": "python",
   "nbconvert_exporter": "python",
   "pygments_lexer": "ipython3",
   "version": "3.6.5"
  }
 },
 "nbformat": 4,
 "nbformat_minor": 2
}
