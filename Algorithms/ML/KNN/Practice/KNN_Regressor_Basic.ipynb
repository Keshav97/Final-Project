{
 "cells": [
  {
   "cell_type": "code",
   "execution_count": 1,
   "metadata": {},
   "outputs": [],
   "source": [
    "import numpy as np\n",
    "from sklearn.neighbors import KNeighborsRegressor\n",
    "from sklearn.model_selection import train_test_split\n",
    "from sklearn.model_selection import cross_val_score"
   ]
  },
  {
   "cell_type": "code",
   "execution_count": 2,
   "metadata": {},
   "outputs": [
    {
     "data": {
      "text/plain": [
       "(70, 1)"
      ]
     },
     "execution_count": 2,
     "metadata": {},
     "output_type": "execute_result"
    }
   ],
   "source": [
    "data = np.loadtxt('dummy_regression_data.csv', delimiter=',')\n",
    "X_train, X_test, Y_train, Y_test = train_test_split(data[:, 0:-1], data[:, -1], test_size=0.3)\n",
    "X_train.shape"
   ]
  },
  {
   "cell_type": "markdown",
   "metadata": {},
   "source": [
    "### Mean Squared Error"
   ]
  },
  {
   "cell_type": "code",
   "execution_count": 3,
   "metadata": {},
   "outputs": [],
   "source": [
    "# This fumction calculates and returns the Mean Squared Error (MSE) for a model\n",
    "def mean_squared_error(Y_true, Y_pred):\n",
    "    # number of test samples\n",
    "    M = len(Y_true)\n",
    "    total_error = 0\n",
    "    for i in range(M):\n",
    "        total_error += (Y_true[i] - Y_pred[i]) ** 2\n",
    "    mse = total_error / M\n",
    "    return mse"
   ]
  },
  {
   "cell_type": "markdown",
   "metadata": {},
   "source": [
    "### Cross - Validation - Finding Optimal Value of k for kNN"
   ]
  },
  {
   "cell_type": "code",
   "execution_count": 4,
   "metadata": {},
   "outputs": [],
   "source": [
    "# Finds the cross validation score for different values of k and returns the value of k with the highest cross validation score\n",
    "def get_maxscore_k(X_train, Y_train, max_k = 25):\n",
    "    x_axis = []\n",
    "    y_axis = []\n",
    "\n",
    "    # going thorught different values of k from 1 to max_k\n",
    "    for i in range(1, max_k + 1, 1):\n",
    "        rgr = KNeighborsRegressor(n_neighbors=i)\n",
    "        score = cross_val_score(rgr, X_train, Y_train)\n",
    "        print(i, ':', score.mean())\n",
    "        x_axis.append(i)\n",
    "        y_axis.append(score.mean())\n",
    "        \n",
    "    optimal_k = x_axis[y_axis.index(max(y_axis))]\n",
    "    return optimal_k"
   ]
  },
  {
   "cell_type": "code",
   "execution_count": 5,
   "metadata": {
    "scrolled": false
   },
   "outputs": [
    {
     "name": "stdout",
     "output_type": "stream",
     "text": [
      "1 : 0.31369826982749255\n",
      "2 : 0.4550533949342082\n",
      "3 : 0.5652967094841576\n",
      "4 : 0.5559900716656698\n",
      "5 : 0.5653084200044588\n",
      "6 : 0.5704240707081839\n",
      "7 : 0.5822398481231406\n",
      "8 : 0.5806411278083397\n",
      "9 : 0.5902185044495432\n",
      "10 : 0.5844684596693305\n",
      "11 : 0.5813430257745006\n",
      "12 : 0.5914018369848913\n",
      "13 : 0.5731041419919971\n",
      "14 : 0.5693409715344805\n",
      "15 : 0.5613918950302237\n",
      "16 : 0.5529696854480171\n",
      "17 : 0.5469633111068385\n",
      "18 : 0.5498581092470963\n",
      "19 : 0.5343192235120209\n",
      "20 : 0.5282526514310143\n",
      "21 : 0.5221018525085777\n",
      "22 : 0.507496493518457\n",
      "23 : 0.50109380915633\n",
      "24 : 0.48796270288450677\n",
      "25 : 0.47536814971845637\n",
      "k with max cross-val score = 12\n"
     ]
    }
   ],
   "source": [
    "optimal_k = get_maxscore_k(X_train, Y_train, max_k = 25)\n",
    "print('k with max cross-val score =', optimal_k)"
   ]
  },
  {
   "cell_type": "markdown",
   "metadata": {},
   "source": [
    "### In-built KNN"
   ]
  },
  {
   "cell_type": "code",
   "execution_count": 6,
   "metadata": {},
   "outputs": [
    {
     "data": {
      "text/plain": [
       "KNeighborsRegressor(algorithm='auto', leaf_size=30, metric='minkowski',\n",
       "          metric_params=None, n_jobs=1, n_neighbors=12, p=2,\n",
       "          weights='uniform')"
      ]
     },
     "execution_count": 6,
     "metadata": {},
     "output_type": "execute_result"
    }
   ],
   "source": [
    "k_neighbours = optimal_k\n",
    "rgr = KNeighborsRegressor(n_neighbors=k_neighbours)\n",
    "rgr.fit(X_train, Y_train)"
   ]
  },
  {
   "cell_type": "code",
   "execution_count": 7,
   "metadata": {},
   "outputs": [
    {
     "name": "stdout",
     "output_type": "stream",
     "text": [
      "In-Built KNN score - k = 12 -- 0.4515594279376095\n",
      "Mean Squared Error - k = 12 -- 147.77216617609025\n"
     ]
    }
   ],
   "source": [
    "print('In-Built KNN score - k =', k_neighbours, '--', rgr.score(X_test, Y_test))\n",
    "Y_pred = rgr.predict(X_test)\n",
    "print('Mean Squared Error - k =', k_neighbours, '--', mean_squared_error(Y_test, Y_pred))"
   ]
  },
  {
   "cell_type": "markdown",
   "metadata": {},
   "source": [
    "### K-NN Regressor Implementation "
   ]
  },
  {
   "cell_type": "code",
   "execution_count": 8,
   "metadata": {},
   "outputs": [],
   "source": [
    "# This function was meant to train the data - but no explicit training in K-NN\n",
    "def train(x, y):\n",
    "    return"
   ]
  },
  {
   "cell_type": "code",
   "execution_count": 9,
   "metadata": {},
   "outputs": [],
   "source": [
    "# This function takes in the training data and the feature values to the data sample to be predicted on. \n",
    "# Using the specified number of nearest neighbours, it returns the predicted value of the specificed data sample\n",
    "def predict_one(x_train, y_train, x_test_point, k):\n",
    "    distances = []\n",
    "    for i in range(len(x_train)):\n",
    "        # sum of square of distance of each feature - minkowski Distance with p = 2\n",
    "        distance = ((x_train[i, :] - x_test_point)**2).sum()\n",
    "        # apending the list of the distance for the point and its index to the list\n",
    "        distances.append([distance, i])\n",
    "\n",
    "    # Sorting using the distance from the sample point\n",
    "    distances = sorted(distances)\n",
    "    \n",
    "    targets = []\n",
    "    # Finding the values of the elements using the first 'k' elemets in the distances list i.e 'k' nearest neighbours\n",
    "    for i in range(k):\n",
    "        # list of the indices of the 'k' nearest neighbours\n",
    "        index_of_training_data = distances[i][1]\n",
    "        \n",
    "        # adding the nearest neighbours to the targets list\n",
    "        targets.append(y_train[index_of_training_data])\n",
    "    \n",
    "    # returns the mean value among the targets\n",
    "    return sum(targets) / len(targets)"
   ]
  },
  {
   "cell_type": "code",
   "execution_count": 10,
   "metadata": {},
   "outputs": [],
   "source": [
    "# This function takes in the training data, the data samples to be predicted upon and the value of k\n",
    "# It return the predicted regression values of the data samples given to it for prediction\n",
    "def predict(x_train, y_train, x_test_data, k):\n",
    "    predictions = []\n",
    "    \n",
    "    # making prediction for the testing data samples\n",
    "    for x_test in x_test_data:\n",
    "        predictions.append(predict_one(x_train, y_train, x_test, k))\n",
    "    return predictions"
   ]
  },
  {
   "cell_type": "code",
   "execution_count": 11,
   "metadata": {},
   "outputs": [
    {
     "name": "stdout",
     "output_type": "stream",
     "text": [
      "Mean Squared Error - k = 12 -- 147.77216617609025\n"
     ]
    }
   ],
   "source": [
    "k_neighbours = optimal_k\n",
    "y_pred = predict(X_train, Y_train, X_test, k_neighbours)\n",
    "print('Mean Squared Error - k =', k_neighbours, '--', mean_squared_error(Y_test, y_pred))"
   ]
  }
 ],
 "metadata": {
  "kernelspec": {
   "display_name": "Python 3",
   "language": "python",
   "name": "python3"
  },
  "language_info": {
   "codemirror_mode": {
    "name": "ipython",
    "version": 3
   },
   "file_extension": ".py",
   "mimetype": "text/x-python",
   "name": "python",
   "nbconvert_exporter": "python",
   "pygments_lexer": "ipython3",
   "version": "3.6.5"
  }
 },
 "nbformat": 4,
 "nbformat_minor": 2
}
