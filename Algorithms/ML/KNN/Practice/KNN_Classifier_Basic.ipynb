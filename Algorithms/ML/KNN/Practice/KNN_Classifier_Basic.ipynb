{
 "cells": [
  {
   "cell_type": "code",
   "execution_count": 1,
   "metadata": {},
   "outputs": [],
   "source": [
    "from sklearn import datasets\n",
    "from sklearn.neighbors import KNeighborsClassifier\n",
    "from sklearn.model_selection import train_test_split\n",
    "from sklearn.metrics import accuracy_score\n",
    "from collections import Counter"
   ]
  },
  {
   "cell_type": "code",
   "execution_count": 2,
   "metadata": {},
   "outputs": [],
   "source": [
    "dataset = datasets.load_breast_cancer()\n",
    "X_train, X_test, Y_train, Y_test = train_test_split(dataset.data, dataset.target, test_size = 0.2, random_state = 0)"
   ]
  },
  {
   "cell_type": "code",
   "execution_count": 3,
   "metadata": {},
   "outputs": [
    {
     "data": {
      "text/plain": [
       "KNeighborsClassifier(algorithm='auto', leaf_size=30, metric='minkowski',\n",
       "           metric_params=None, n_jobs=1, n_neighbors=8, p=2,\n",
       "           weights='uniform')"
      ]
     },
     "execution_count": 3,
     "metadata": {},
     "output_type": "execute_result"
    }
   ],
   "source": [
    "k_neighbours = 8\n",
    "clf = KNeighborsClassifier(n_neighbors=k_neighbours)\n",
    "clf.fit(X_train, Y_train)"
   ]
  },
  {
   "cell_type": "code",
   "execution_count": 4,
   "metadata": {},
   "outputs": [
    {
     "name": "stdout",
     "output_type": "stream",
     "text": [
      "In-Built KNN score - k = 8 - using clf.score: 0.9473684210526315\n",
      "In-Built KNN score - k = 8 - using accuracy_score: 0.9473684210526315\n"
     ]
    }
   ],
   "source": [
    "print('In-Built KNN score - k =', k_neighbours, '-','using clf.score:', clf.score(X_test, Y_test))\n",
    "Y_pred = clf.predict(X_test)\n",
    "print('In-Built KNN score - k =', k_neighbours, '-','using accuracy_score:', accuracy_score(Y_test, Y_pred))"
   ]
  },
  {
   "cell_type": "markdown",
   "metadata": {},
   "source": [
    "### K-NN Classifier Implementation "
   ]
  },
  {
   "cell_type": "code",
   "execution_count": 5,
   "metadata": {},
   "outputs": [],
   "source": [
    "# This function was meant to train the data - but no explicit training in K-NN\n",
    "def train(x, y):\n",
    "    return"
   ]
  },
  {
   "cell_type": "code",
   "execution_count": 6,
   "metadata": {},
   "outputs": [],
   "source": [
    "# This function takes in the training data and the feature values to the data sample to be predicted on. \n",
    "# Using the specified number of nearest neighbours, it returns the predicted classification of the specificed data sample\n",
    "def predict_one(x_train, y_train, x_test_point, k):\n",
    "    distances = []\n",
    "    for i in range(len(x_train)):\n",
    "        # sum of square of distance of each feature - minkowski Distance with p = 2\n",
    "        distance = ((x_train[i, :] - x_test_point)**2).sum()\n",
    "        # apeending the list of the distance for the point and its index to the list\n",
    "        distances.append([distance, i])\n",
    "\n",
    "    # Sorting using the distance from the sample point\n",
    "    distances = sorted(distances)\n",
    "    \n",
    "    targets = []\n",
    "    # Finding the classification of the elements using the first 'k' elemets in the distances list i.e 'k' nearest neighbours\n",
    "    for i in range(k):\n",
    "        # list of the indices of the 'k' nearest neighbours\n",
    "        index_of_training_data = distances[i][1]\n",
    "        \n",
    "        # adding the nearest neighbours to the targets list\n",
    "        targets.append(y_train[index_of_training_data])\n",
    "    \n",
    "    # returns the most common entry among the targets\n",
    "    return Counter(targets).most_common(1)[0][0]"
   ]
  },
  {
   "cell_type": "code",
   "execution_count": 7,
   "metadata": {},
   "outputs": [],
   "source": [
    "# This function takes in the training data, the data samples to be predicted upon and the value of k\n",
    "# It return the predicted classification of the data samples given to it for prediction\n",
    "def predict(x_train, y_train, x_test_data, k):\n",
    "    predictions = []\n",
    "    \n",
    "    # making prediction for the testing data samples\n",
    "    for x_test in x_test_data:\n",
    "        predictions.append(predict_one(x_train, y_train, x_test, k))\n",
    "    return predictions"
   ]
  },
  {
   "cell_type": "code",
   "execution_count": 8,
   "metadata": {},
   "outputs": [
    {
     "name": "stdout",
     "output_type": "stream",
     "text": [
      "Implemented KNN score - k = 8 -- 0.9473684210526315\n"
     ]
    }
   ],
   "source": [
    "k_neighbours = 8\n",
    "y_pred = predict(X_train, Y_train, X_test, k_neighbours)\n",
    "print('Implemented KNN score - k =', k_neighbours, '--', accuracy_score(Y_test, y_pred))"
   ]
  },
  {
   "cell_type": "code",
   "execution_count": 9,
   "metadata": {},
   "outputs": [
    {
     "name": "stdout",
     "output_type": "stream",
     "text": [
      "[(2, 5), (3, 4), (4, 3), (1, 1)]\n"
     ]
    },
    {
     "data": {
      "text/plain": [
       "2"
      ]
     },
     "execution_count": 9,
     "metadata": {},
     "output_type": "execute_result"
    }
   ],
   "source": [
    "# Sample use of Counter\n",
    "a = [1,2,3,2,2,2,3,4,3,4,2,3,4]\n",
    "print(Counter(a).most_common())\n",
    "Counter(a).most_common(1)[0][0]"
   ]
  }
 ],
 "metadata": {
  "kernelspec": {
   "display_name": "Python 3",
   "language": "python",
   "name": "python3"
  },
  "language_info": {
   "codemirror_mode": {
    "name": "ipython",
    "version": 3
   },
   "file_extension": ".py",
   "mimetype": "text/x-python",
   "name": "python",
   "nbconvert_exporter": "python",
   "pygments_lexer": "ipython3",
   "version": "3.6.5"
  }
 },
 "nbformat": 4,
 "nbformat_minor": 2
}
