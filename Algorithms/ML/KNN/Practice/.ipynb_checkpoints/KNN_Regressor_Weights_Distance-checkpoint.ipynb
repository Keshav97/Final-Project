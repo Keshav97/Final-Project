{
 "cells": [
  {
   "cell_type": "code",
   "execution_count": 1,
   "metadata": {},
   "outputs": [],
   "source": [
    "import numpy as np\n",
    "from sklearn.neighbors import KNeighborsRegressor\n",
    "from sklearn.model_selection import train_test_split\n",
    "from sklearn.model_selection import cross_val_score"
   ]
  },
  {
   "cell_type": "code",
   "execution_count": 2,
   "metadata": {},
   "outputs": [
    {
     "data": {
      "text/plain": [
       "(70, 1)"
      ]
     },
     "execution_count": 2,
     "metadata": {},
     "output_type": "execute_result"
    }
   ],
   "source": [
    "data = np.loadtxt('dummy_regression_data.csv', delimiter=',')\n",
    "X_train, X_test, Y_train, Y_test = train_test_split(data[:, 0:-1], data[:, -1], test_size=0.3)\n",
    "X_train.shape"
   ]
  },
  {
   "cell_type": "markdown",
   "metadata": {},
   "source": [
    "### Mean Squared Error"
   ]
  },
  {
   "cell_type": "code",
   "execution_count": 3,
   "metadata": {},
   "outputs": [],
   "source": [
    "# This fumction calculates and returns the Mean Squared Error (MSE) for a model\n",
    "def mean_squared_error(Y_true, Y_pred):\n",
    "    # number of test samples\n",
    "    M = len(Y_true)\n",
    "    total_error = 0\n",
    "    for i in range(M):\n",
    "        total_error += (Y_true[i] - Y_pred[i]) ** 2\n",
    "    mse = total_error / M\n",
    "    return mse"
   ]
  },
  {
   "cell_type": "markdown",
   "metadata": {},
   "source": [
    "### Cross - Validation - Finding Optimal Value of k for kNN¶"
   ]
  },
  {
   "cell_type": "code",
   "execution_count": 4,
   "metadata": {},
   "outputs": [],
   "source": [
    "# Finds the cross validation score for different values of k and returns the value of k with the highest cross validation score\n",
    "def get_maxscore_k(X_train, Y_train, max_k = 25):\n",
    "    x_axis = []\n",
    "    y_axis = []\n",
    "\n",
    "    # going thorught different values of k from 1 to max_k\n",
    "    for i in range(1, max_k + 1, 1):\n",
    "        rgr = KNeighborsRegressor(n_neighbors=i, weights='distance')\n",
    "        score = cross_val_score(rgr, X_train, Y_train)\n",
    "        print(i, ':', score.mean())\n",
    "        x_axis.append(i)\n",
    "        y_axis.append(score.mean())\n",
    "        \n",
    "    optimal_k = x_axis[y_axis.index(max(y_axis))]\n",
    "    return optimal_k"
   ]
  },
  {
   "cell_type": "code",
   "execution_count": 5,
   "metadata": {
    "scrolled": false
   },
   "outputs": [
    {
     "name": "stdout",
     "output_type": "stream",
     "text": [
      "1 : 0.27083791881841957\n",
      "2 : 0.3815313079370868\n",
      "3 : 0.426585410049301\n",
      "4 : 0.46470228706194483\n",
      "5 : 0.47916677317594747\n",
      "6 : 0.49478749369453334\n",
      "7 : 0.49319960720206163\n",
      "8 : 0.5117423792752347\n",
      "9 : 0.5151580544188833\n",
      "10 : 0.5216121563152555\n",
      "11 : 0.5238682018806501\n",
      "12 : 0.5288912269021179\n",
      "13 : 0.5301084130558612\n",
      "14 : 0.5298488498813985\n",
      "15 : 0.5314532126745558\n",
      "16 : 0.5339524845000441\n",
      "17 : 0.5353415973620991\n",
      "18 : 0.533677870778804\n",
      "19 : 0.5345512435887398\n",
      "20 : 0.5374984325568862\n",
      "21 : 0.5398583039489493\n",
      "22 : 0.5402038560161329\n",
      "23 : 0.5405412721039474\n",
      "24 : 0.5405746320450836\n",
      "25 : 0.5395429678024141\n",
      "k with max cross-val score = 24\n"
     ]
    }
   ],
   "source": [
    "optimal_k = get_maxscore_k(X_train, Y_train, max_k = 25)\n",
    "print('k with max cross-val score =', optimal_k)"
   ]
  },
  {
   "cell_type": "markdown",
   "metadata": {},
   "source": [
    "### In-built KNN (weights propotional to distance)\n",
    "https://scikit-learn.org/stable/modules/generated/sklearn.neighbors.KNeighborsRegressor.html#sklearn.neighbors.KNeighborsRegressor"
   ]
  },
  {
   "cell_type": "code",
   "execution_count": 6,
   "metadata": {},
   "outputs": [
    {
     "data": {
      "text/plain": [
       "KNeighborsRegressor(algorithm='auto', leaf_size=30, metric='minkowski',\n",
       "          metric_params=None, n_jobs=1, n_neighbors=24, p=2,\n",
       "          weights='distance')"
      ]
     },
     "execution_count": 6,
     "metadata": {},
     "output_type": "execute_result"
    }
   ],
   "source": [
    "k_neighbours = optimal_k\n",
    "rgr = KNeighborsRegressor(n_neighbors=k_neighbours, weights='distance')\n",
    "rgr.fit(X_train, Y_train)"
   ]
  },
  {
   "cell_type": "code",
   "execution_count": 7,
   "metadata": {},
   "outputs": [
    {
     "name": "stdout",
     "output_type": "stream",
     "text": [
      "In-Built KNN score - k = 24 -- 0.17644115326827603\n",
      "Mean Squared Error - k = 24 -- 225.14252821817107\n"
     ]
    }
   ],
   "source": [
    "print('In-Built KNN score - k =', k_neighbours, '--', rgr.score(X_test, Y_test))\n",
    "Y_pred = rgr.predict(X_test)\n",
    "print('Mean Squared Error - k =', k_neighbours, '--', mean_squared_error(Y_test, Y_pred))"
   ]
  },
  {
   "cell_type": "markdown",
   "metadata": {},
   "source": [
    "### K-NN Regressor Implementation (weights propotional to distance) - Need to Fix This\n",
    "http://www.data-machine.com/nmtutorial/distanceweightedknnalgorithm.htm"
   ]
  },
  {
   "cell_type": "code",
   "execution_count": 8,
   "metadata": {},
   "outputs": [],
   "source": [
    "# This function was meant to train the data - but no explicit training in K-NN\n",
    "def train(x, y):\n",
    "    return"
   ]
  },
  {
   "cell_type": "code",
   "execution_count": 9,
   "metadata": {},
   "outputs": [],
   "source": [
    "# This function takes in the training data and the feature values to the data sample to be predicted on. \n",
    "# Using the specified number of nearest neighbours, it returns the predicted value of the specificed data sample\n",
    "def predict_one(x_train, y_train, x_test_point, k):\n",
    "    distances = []\n",
    "    for i in range(len(x_train)):\n",
    "        # sum of square of distance of each feature - minkowski Distance with p = 2\n",
    "        distance = ((x_train[i, :] - x_test_point)**2).sum()\n",
    "        # apending the list of the distance for the point and its index to the list\n",
    "        distances.append([distance, i])\n",
    "\n",
    "    # Sorting using the distance from the sample point\n",
    "    distances = sorted(distances)\n",
    "    \n",
    "    targets = []\n",
    "    total_inverse_distance = 0\n",
    "    \n",
    "    for i in range(k):\n",
    "        total_inverse_distance += (1 / distances[i][0])\n",
    "    print('total_inverse_distance =', total_inverse_distance)\n",
    "    \n",
    "    # Finding the values of the elements using the first 'k' elemets in the distances list i.e 'k' nearest neighbours\n",
    "    for i in range(k):\n",
    "        # list of the indices of the 'k' nearest neighbours\n",
    "        index_of_training_data = distances[i][1]\n",
    "\n",
    "        # Calculating the scaling weight for the neighbour\n",
    "        scale = (1 / distances[i][0]) / total_inverse_distance\n",
    "        \n",
    "        # adding the nearest neighbours and their weighted scales to the targets list\n",
    "        targets.append([scale, y_train[index_of_training_data]])\n",
    "    \n",
    "    predicted_value = 0\n",
    "    \n",
    "    # Calculates the predicted value from the targets\n",
    "    for i in range(k):\n",
    "        predicted_value += targets[i][0] * targets[i][1]\n",
    "    \n",
    "    # returns the predicted value\n",
    "    return predicted_value"
   ]
  },
  {
   "cell_type": "code",
   "execution_count": 10,
   "metadata": {},
   "outputs": [],
   "source": [
    "# This function takes in the training data, the data samples to be predicted upon and the value of k\n",
    "# It return the predicted regression values of the data samples given to it for prediction\n",
    "def predict(x_train, y_train, x_test_data, k):\n",
    "    predictions = []\n",
    "    \n",
    "    # making prediction for the testing data samples\n",
    "    for x_test in x_test_data:\n",
    "        predictions.append(predict_one(x_train, y_train, x_test, k))\n",
    "    return predictions"
   ]
  },
  {
   "cell_type": "code",
   "execution_count": 11,
   "metadata": {},
   "outputs": [
    {
     "name": "stdout",
     "output_type": "stream",
     "text": [
      "total_inverse_distance = 1272.4427484392027\n",
      "total_inverse_distance = 4.717268922594665\n",
      "total_inverse_distance = 69.08129707791743\n",
      "total_inverse_distance = 17.184829480290176\n",
      "total_inverse_distance = 83.61349918206507\n",
      "total_inverse_distance = 271.94273554412075\n",
      "total_inverse_distance = 64733.86254695193\n",
      "total_inverse_distance = 15.470656109859044\n",
      "total_inverse_distance = 137692547.19431245\n",
      "total_inverse_distance = 372.27632145252886\n",
      "total_inverse_distance = 506.4859144627577\n",
      "total_inverse_distance = 19.229381912679308\n",
      "total_inverse_distance = 8.674917250974227\n",
      "total_inverse_distance = 29.167978309515302\n",
      "total_inverse_distance = 16.9405988550088\n",
      "total_inverse_distance = 32253.11687588141\n",
      "total_inverse_distance = 26.16930934135885\n",
      "total_inverse_distance = 136194901.92059496\n",
      "total_inverse_distance = 6740.1221233843835\n",
      "total_inverse_distance = 1540.2110400784663\n",
      "total_inverse_distance = 84.12776346778037\n",
      "total_inverse_distance = 450.89095449609346\n",
      "total_inverse_distance = 69.77728071884398\n",
      "total_inverse_distance = 10.038953914878615\n",
      "total_inverse_distance = 220.82082711270036\n",
      "total_inverse_distance = 28.43752357894291\n",
      "total_inverse_distance = 87.00021689511516\n",
      "total_inverse_distance = 433.4840620135868\n",
      "total_inverse_distance = 642.4856428234723\n",
      "total_inverse_distance = 58.50307871635086\n",
      "Mean Squared Error - k = 24 -- 259.80526387966876\n"
     ]
    }
   ],
   "source": [
    "k_neighbours = optimal_k\n",
    "y_pred = predict(X_train, Y_train, X_test, k_neighbours)\n",
    "print('Mean Squared Error - k =', k_neighbours, '--', mean_squared_error(Y_test, y_pred))"
   ]
  }
 ],
 "metadata": {
  "kernelspec": {
   "display_name": "Python 3",
   "language": "python",
   "name": "python3"
  },
  "language_info": {
   "codemirror_mode": {
    "name": "ipython",
    "version": 3
   },
   "file_extension": ".py",
   "mimetype": "text/x-python",
   "name": "python",
   "nbconvert_exporter": "python",
   "pygments_lexer": "ipython3",
   "version": "3.6.5"
  }
 },
 "nbformat": 4,
 "nbformat_minor": 2
}
