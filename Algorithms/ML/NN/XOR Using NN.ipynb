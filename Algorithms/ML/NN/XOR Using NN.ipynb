{
 "cells": [
  {
   "cell_type": "code",
   "execution_count": 1,
   "metadata": {},
   "outputs": [],
   "source": [
    "import numpy as np"
   ]
  },
  {
   "cell_type": "markdown",
   "metadata": {},
   "source": [
    "### XOR"
   ]
  },
  {
   "cell_type": "code",
   "execution_count": 2,
   "metadata": {},
   "outputs": [
    {
     "data": {
      "text/plain": [
       "((4, 2), (4, 1))"
      ]
     },
     "execution_count": 2,
     "metadata": {},
     "output_type": "execute_result"
    }
   ],
   "source": [
    "X = np.array([[0, 0], [0, 1], [1, 0], [1, 1]])\n",
    "Y = np.array([[0,1,1,0]]).T\n",
    "X.shape, Y.shape"
   ]
  },
  {
   "cell_type": "code",
   "execution_count": 3,
   "metadata": {},
   "outputs": [],
   "source": [
    "# ACTIVATION - Sigmoid Function\n",
    "def sig(z):\n",
    "    return 1 / (1 + np.exp(-z))"
   ]
  },
  {
   "cell_type": "code",
   "execution_count": 4,
   "metadata": {},
   "outputs": [],
   "source": [
    "# Derivative of Sigmoid Function\n",
    "def derivativeSig(z):\n",
    "    return sig(z) * (1 - sig(z))"
   ]
  },
  {
   "cell_type": "code",
   "execution_count": 5,
   "metadata": {},
   "outputs": [],
   "source": [
    "n_input = 2\n",
    "n_hidden_1 = 2\n",
    "n_output = 1\n",
    "lr = 0.1\n",
    "epochs = 10000"
   ]
  },
  {
   "cell_type": "code",
   "execution_count": 6,
   "metadata": {},
   "outputs": [],
   "source": [
    "weights = {\n",
    "    'h1': 2 * np.random.random((n_input, n_hidden_1)) - 1,\n",
    "    'out': 2 * np.random.random((n_hidden_1, n_output)) - 1\n",
    "}\n",
    "\n",
    "biases = {\n",
    "    'h1': 2 * np.random.random((1, n_hidden_1)) - 1,\n",
    "    'out': 2 * np.random.random((1, n_output)) - 1\n",
    "}"
   ]
  },
  {
   "cell_type": "code",
   "execution_count": 7,
   "metadata": {},
   "outputs": [],
   "source": [
    "# # one hidden layer weights\n",
    "# wh = 2 * np.random.random((2, 2)) - 1\n",
    "# bh = 2 * np.random.random((1, 2)) - 1\n",
    "# wo = 2 * np.random.random((2, 1)) - 1\n",
    "# bo = 2 * np.random.random((1, 1)) - 1\n",
    "# lr = 0.1"
   ]
  },
  {
   "cell_type": "code",
   "execution_count": 22,
   "metadata": {},
   "outputs": [
    {
     "name": "stdout",
     "output_type": "stream",
     "text": [
      "Output: \n",
      " [[0.10965573]\n",
      " [0.89758352]\n",
      " [0.8977523 ]\n",
      " [0.12540683]]\n",
      "\n",
      "\n",
      "Weights Hidden: \n",
      " [[-3.77768078  5.89218234]\n",
      " [-3.77181001  5.85851676]]\n",
      "\n",
      "\n",
      "Bias Hidden:  [[ 5.62203675 -2.45744318]]\n",
      "\n",
      "\n",
      "Weights Output: \n",
      " [[5.82686285]\n",
      " [5.6652099 ]]\n",
      "\n",
      "\n",
      "Bias Output:  [[-8.34708603]]\n"
     ]
    }
   ],
   "source": [
    "for iter in range(epochs):\n",
    "    # Forward Propagation\n",
    "    inputHidden = np.dot(X, weights['h1']) + biases['h1']\n",
    "    outputHidden = sig(inputHidden)\n",
    "    inputForOutputLayer = np.dot(outputHidden, weights['out']) + biases['out']\n",
    "    output = sig(inputForOutputLayer)\n",
    "\n",
    "    # Backpropagation\n",
    "    first_term_output_layer = output - Y\n",
    "    second_term_output_layer = derivativeSig(inputForOutputLayer)\n",
    "    first_two_output_layer = first_term_output_layer * second_term_output_layer\n",
    "    \n",
    "#     print(output.shape)\n",
    "#     print(Y)\n",
    "#     print(first_two_output_layer.shape)\n",
    "    \n",
    "\n",
    "    first_term_hidden_layer = np.dot(first_two_output_layer, weights['out'].T)\n",
    "    second_term_hidden_layer = derivativeSig(inputHidden)\n",
    "    first_two_hidden_layer = first_term_hidden_layer * second_term_hidden_layer\n",
    "\n",
    "    changes_output = np.dot(outputHidden.T, first_two_output_layer)\n",
    "    changes_output_bias = np.sum(first_two_output_layer, axis = 0, keepdims = True)\n",
    "\n",
    "    changes_hidden = np.dot(X.T, first_two_hidden_layer)\n",
    "    changes_hidden_bias = np.sum(first_two_hidden_layer, axis = 0, keepdims = True)\n",
    "\n",
    "    weights['out'] = weights['out'] - lr*changes_output\n",
    "    biases['out'] = biases['out'] - lr*changes_output_bias\n",
    "\n",
    "    weights['h1'] = weights['h1'] - lr*changes_hidden\n",
    "    biases['h1'] = biases['h1'] - lr*changes_hidden_bias\n",
    "\n",
    "\n",
    "inputHidden = np.dot(X, weights['h1']) + biases['h1']\n",
    "outputHidden = sig(inputHidden)\n",
    "inputForOutputLayer = np.dot(outputHidden, weights['out']) + biases['out']\n",
    "output = sig(inputForOutputLayer)\n",
    "\n",
    "print('Output: \\n', output)\n",
    "print('\\n\\nWeights Hidden: \\n', weights['h1'])\n",
    "print('\\n\\nBias Hidden: ', biases['h1'])\n",
    "print('\\n\\nWeights Output: \\n', weights['out'])\n",
    "print('\\n\\nBias Output: ', biases['out'])"
   ]
  }
 ],
 "metadata": {
  "kernelspec": {
   "display_name": "Python 3",
   "language": "python",
   "name": "python3"
  },
  "language_info": {
   "codemirror_mode": {
    "name": "ipython",
    "version": 3
   },
   "file_extension": ".py",
   "mimetype": "text/x-python",
   "name": "python",
   "nbconvert_exporter": "python",
   "pygments_lexer": "ipython3",
   "version": "3.6.5"
  }
 },
 "nbformat": 4,
 "nbformat_minor": 2
}
