{
 "cells": [
  {
   "cell_type": "code",
   "execution_count": 1,
   "metadata": {},
   "outputs": [],
   "source": [
    "from sklearn import svm, datasets\n",
    "import numpy as np\n",
    "from sklearn.model_selection import train_test_split\n",
    "import matplotlib.pyplot as plt\n",
    "import cvxopt\n",
    "from sklearn.metrics import accuracy_score"
   ]
  },
  {
   "cell_type": "code",
   "execution_count": 2,
   "metadata": {},
   "outputs": [],
   "source": [
    "def linear_kernel(x1, x2):\n",
    "    return np.dot(x1, x2)\n",
    "\n",
    "def polynomial_kernel(x1, x2, degree = 3):\n",
    "    return (1 + np.dot(x1, x2)) ** degree\n",
    "\n",
    "def rbf_kernel(x1, x2, gamma):\n",
    "    if gamma == 'auto':\n",
    "        gamma = 1 / len(x1)\n",
    "    return np.exp(gamma * (-np.linalg.norm(x1 - x2) ** 2))"
   ]
  },
  {
   "cell_type": "code",
   "execution_count": 3,
   "metadata": {},
   "outputs": [],
   "source": [
    "class Support_Vector_Machine_Classifier:\n",
    "    def __init__(self, C = 1.0, kernel = 'rbf', degree = 3, gamma = 'auto'):\n",
    "        # https://stackoverflow.com/questions/60208/replacements-for-switch-statement-in-python\n",
    "        self._kernel = {\n",
    "                        'linear': linear_kernel,\n",
    "                        'poly': lambda x1, x2: polynomial_kernel(x1, x2, degree = degree),\n",
    "                        'rbf': lambda x1, x2: rbf_kernel(x1, x2, gamma = gamma),\n",
    "                    }.get(kernel, rbf_kernel) \n",
    "        # to force the float type\n",
    "        self._C = float(C)\n",
    "        self._degree = degree\n",
    "        self._gamma = gamma\n",
    "        \n",
    "    # https://stackoverflow.com/questions/1547145/defining-private-module-functions-in-python\n",
    "    def _get_gram_matrix(self, X):\n",
    "        n_samples, n_features = X.shape\n",
    "        K = np.zeros((n_samples, n_samples))\n",
    "        for i in range(n_samples):\n",
    "            for j in range(n_samples):\n",
    "                K[i,j] = self._kernel(X[i], X[j])\n",
    "        return K  \n",
    "        \n",
    "    \n",
    "    def fit(self, X_train, Y_train):\n",
    "        n_samples, n_features = X_train.shape\n",
    "        \n",
    "        K = self._get_gram_matrix(X_train)\n",
    "        \n",
    "        # We want to maximise wrt alpha, instead we minimise the negative of the expression wrt alpha\n",
    "        # We want to maximise Q(a)\n",
    "        # Q(a) = -(1/2)a(T)Pa + sum_i(a_i)\n",
    "        # Instead we minimise (-Q(a))\n",
    "        # Check SVM slide 14 and 20\n",
    "        \n",
    "        # P = sum i,j(yi * yj * K(xi, xj))\n",
    "        P = cvxopt.matrix(np.outer(Y_train, Y_train) * K)\n",
    "        # q = -1\n",
    "        q = cvxopt.matrix(np.ones(n_samples) * -1)\n",
    "        \n",
    "        # Ax = b ====> sum_i(y_i * a_i) = 0\n",
    "        A = cvxopt.matrix(Y_train, (1, n_samples), 'd')\n",
    "        b = cvxopt.matrix(0.0)\n",
    "        \n",
    "        # Gx <= h =====> 0 <= a <= C\n",
    "        # Top half -----> -a <= 0\n",
    "        top_half = np.eye(n_samples) * -1\n",
    "        # Bottom half -----> a <= C\n",
    "        bot_half = np.eye(n_samples)\n",
    "        G = cvxopt.matrix(np.vstack((top_half, bot_half)))\n",
    "        \n",
    "        top_half = np.zeros(n_samples)\n",
    "        bot_half = np.ones(n_samples) * self._C\n",
    "        h = cvxopt.matrix(np.hstack((top_half, bot_half)))\n",
    "        \n",
    "        # Silent cvxopt solver - https://stackoverflow.com/a/27184422/6001624\n",
    "        cvxopt.solvers.options['show_progress'] = False\n",
    "        \n",
    "        # solve QP problem\n",
    "        solution = cvxopt.solvers.qp(P, q, G, h, A, b)\n",
    "\n",
    "        # Lagrange multipliers (the alphas)\n",
    "        alphas = np.ravel(solution['x'])\n",
    "\n",
    "        # Support vectors have non zero lagrange multipliers (Check slide 22 SVM)\n",
    "        is_sv = alphas > 1e-5\n",
    "        sv_indices = np.arange(len(alphas))[is_sv]\n",
    "        self._alphas = alphas[is_sv]\n",
    "        \n",
    "        # the x part of the SVs\n",
    "        self._support_vectors = X_train[is_sv]\n",
    "        # the y part of the SVs\n",
    "        self._support_vector_labels = Y_train[is_sv]\n",
    "        print(\"%d support vectors out of %d points\" % (len(self._alphas), n_samples))\n",
    "\n",
    "        # Slide 12: http://www.cs.cmu.edu/~guestrin/Class/10701-S07/Slides/kernels.pdf\n",
    "        # Intercept -----> b = mean(y_k - sum_i(a_i * y_i * x_i).x_k) for all k st 0 < a_k < C\n",
    "        #                    = mean(y_k - sum(a_i * y_i * K(x_i, x_k))) for all k st 0 < a_k < C\n",
    "        self._b = 0\n",
    "        for i in range(len(self._alphas)):\n",
    "            self._b += self._support_vector_labels[i]\n",
    "            self._b -= np.sum(self._alphas * self._support_vector_labels * K[sv_indices[i],is_sv]) # use is_sv as only those k st 0 < a_k < C\n",
    "        self._b /= len(self._alphas)\n",
    "\n",
    "        \n",
    "    def predict(self, X):\n",
    "        y_predict = np.ones(len(X)) * self._b\n",
    "        for i in range(len(X)):\n",
    "            for alpha, sv_y, sv in zip(self._alphas, self._support_vector_labels, self._support_vectors):\n",
    "                y_predict[i] += alpha * sv_y * self._kernel(X[i], sv)\n",
    "        return np.sign(y_predict)"
   ]
  },
  {
   "cell_type": "code",
   "execution_count": 13,
   "metadata": {},
   "outputs": [],
   "source": [
    "def load_data(to_plot_boundary = True):\n",
    "    iris = datasets.load_iris()\n",
    "    # can just use two features if we want to plot the decision boundary\n",
    "    if to_plot_boundary:\n",
    "        # fetching all rows and first 2 cols (features)\n",
    "        x = iris.data[:, 0:2] \n",
    "    else:\n",
    "        x = iris.data\n",
    "    y = iris.target\n",
    "    x = x[:100]\n",
    "    y = y[:100]\n",
    "    y[y == 0] = -1\n",
    "    return x, y"
   ]
  },
  {
   "cell_type": "code",
   "execution_count": 5,
   "metadata": {},
   "outputs": [],
   "source": [
    "def train_test_data(x, y):\n",
    "    x_train, x_test, y_train, y_test = train_test_split(x, y)\n",
    "    return x_train, x_test, y_train, y_test"
   ]
  },
  {
   "cell_type": "code",
   "execution_count": 6,
   "metadata": {},
   "outputs": [],
   "source": [
    "def train_predict(x_train, x_test, y_train, y_test, kernel = 'rbf'):\n",
    "    clf = Support_Vector_Machine_Classifier(kernel = kernel, gamma = 0.5)\n",
    "    clf.fit(x_train, y_train)\n",
    "    y_pred = clf.predict(x_test)\n",
    "    print('Test Score:', accuracy_score(y_test, y_pred))\n",
    "    return clf"
   ]
  },
  {
   "cell_type": "markdown",
   "metadata": {},
   "source": [
    "https://www.analyticsvidhya.com/blog/2017/09/understaing-support-vector-machine-example-code/"
   ]
  },
  {
   "cell_type": "code",
   "execution_count": 7,
   "metadata": {},
   "outputs": [],
   "source": [
    "# (Bruteforece way to) creates all possible combination between the ranges between the given range bounds \n",
    "def makegrid(x1, x2, h = 0.02):\n",
    "    # taking a 1 extra from the given range\n",
    "    x1_min, x1_max = x1.min() - 1, x1.max() + 1\n",
    "    x2_min, x2_max = x2.min() - 1, x2.max() + 1\n",
    "    a = np.arange(x1_min, x1_max, h)\n",
    "    b = np.arange(x2_min, x2_max, h)\n",
    "    # will create all possible combinations between the 2 arrays\n",
    "    xx, yy = np.meshgrid(a, b)\n",
    "    return xx, yy"
   ]
  },
  {
   "cell_type": "code",
   "execution_count": 8,
   "metadata": {},
   "outputs": [],
   "source": [
    "# Plotting the decision boundary\n",
    "def plot_boundary(x, y, clf):\n",
    "    xx, yy = makegrid(x[:, 0], x[:, 1])\n",
    "    # Ravel converts the matrix into a huge 1-D array\n",
    "    predictions = clf.predict(np.c_[xx.ravel(), yy.ravel()])\n",
    "    plt.scatter(xx.ravel(), yy.ravel(), c = predictions)\n",
    "    plt.show()"
   ]
  },
  {
   "cell_type": "code",
   "execution_count": 19,
   "metadata": {},
   "outputs": [],
   "source": [
    "def run(to_plot_boundary = True):\n",
    "    x, y = load_data(to_plot_boundary)\n",
    "    x_train, x_test, y_train, y_test = train_test_data(x, y)\n",
    "    kernel = 'poly'\n",
    "    clf = train_predict(x_train, x_test, y_train, y_test, kernel = kernel)\n",
    "    if to_plot_boundary:\n",
    "        plot_boundary(x, y, clf)"
   ]
  },
  {
   "cell_type": "code",
   "execution_count": 21,
   "metadata": {},
   "outputs": [
    {
     "name": "stdout",
     "output_type": "stream",
     "text": [
      "3 support vectors out of 75 points\n",
      "Test Score: 1.0\n"
     ]
    },
    {
     "data": {
      "image/png": "[encoded data removed]",
      "text/plain": [
       "<Figure size 432x288 with 1 Axes>"
      ]
     },
     "metadata": {},
     "output_type": "display_data"
    }
   ],
   "source": [
    "run(to_plot_boundary = True)"
   ]
  }
 ],
 "metadata": {
  "kernelspec": {
   "display_name": "Python 3",
   "language": "python",
   "name": "python3"
  },
  "language_info": {
   "codemirror_mode": {
    "name": "ipython",
    "version": 3
   },
   "file_extension": ".py",
   "mimetype": "text/x-python",
   "name": "python",
   "nbconvert_exporter": "python",
   "pygments_lexer": "ipython3",
   "version": "3.6.5"
  }
 },
 "nbformat": 4,
 "nbformat_minor": 2
}
