{
 "cells": [
  {
   "cell_type": "code",
   "execution_count": 1,
   "metadata": {},
   "outputs": [],
   "source": [
    "from sklearn import svm, datasets\n",
    "import numpy as np\n",
    "from sklearn.model_selection import train_test_split\n",
    "import matplotlib.pyplot as plt"
   ]
  },
  {
   "cell_type": "code",
   "execution_count": 11,
   "metadata": {},
   "outputs": [],
   "source": [
    "def load_data(to_plot_boundary = True):\n",
    "    iris = datasets.load_iris()\n",
    "    # can just use two features if we want to plot the decision boundary\n",
    "    if to_plot_boundary:\n",
    "        # fetching all rows and first 2 cols (features)\n",
    "        x = iris.data[:, 0:2] \n",
    "    else:\n",
    "        x = iris.data\n",
    "    y = iris.target\n",
    "    return x, y"
   ]
  },
  {
   "cell_type": "code",
   "execution_count": 3,
   "metadata": {},
   "outputs": [],
   "source": [
    "def train_test_data(x, y):\n",
    "    x_train, x_test, y_train, y_test = train_test_split(x, y)\n",
    "    return x_train, x_test, y_train, y_test"
   ]
  },
  {
   "cell_type": "code",
   "execution_count": 4,
   "metadata": {},
   "outputs": [],
   "source": [
    "def train_predict(x_train, x_test, y_train, y_test, kernel = 'rbf'):\n",
    "    clf = svm.SVC(kernel = kernel)\n",
    "    clf.fit(x_train, y_train)\n",
    "    print('Test Score:', clf.score(x_test, y_test))\n",
    "    return clf"
   ]
  },
  {
   "cell_type": "code",
   "execution_count": 13,
   "metadata": {},
   "outputs": [],
   "source": [
    "# (Bruteforece way to) creates all possible combination between the ranges between the given range bounds \n",
    "def makegrid(x1, x2, h = 0.02):\n",
    "    # taking a 1 extra from the given range\n",
    "    x1_min, x1_max = x1.min() - 1, x1.max() + 1\n",
    "    x2_min, x2_max = x2.min() - 1, x2.max() + 1\n",
    "    a = np.arange(x1_min, x1_max, h)\n",
    "    b = np.arange(x2_min, x2_max, h)\n",
    "    # will create all possible combinations between the 2 arrays\n",
    "    xx, yy = np.meshgrid(a, b)\n",
    "    return xx, yy"
   ]
  },
  {
   "cell_type": "code",
   "execution_count": 6,
   "metadata": {},
   "outputs": [],
   "source": [
    "# Plotting the decision bound\n",
    "def plot_boundary(x, y, clf):\n",
    "    xx, yy = makegrid(x[:, 0], x[:, 1])\n",
    "    # Ravel converts the matrix into a huge 1-D array\n",
    "    predictions = clf.predict(np.c_[xx.ravel(), yy.ravel()])\n",
    "    plt.scatter(xx.ravel(), yy.ravel(), c = predictions)\n",
    "    plt.show()"
   ]
  },
  {
   "cell_type": "code",
   "execution_count": 9,
   "metadata": {},
   "outputs": [],
   "source": [
    "def run(to_plot_boundary = True):\n",
    "    x, y = load_data(to_plot_boundary)\n",
    "    x_train, x_test, y_train, y_test = train_test_data(x, y)\n",
    "    kernel = 'rbf'\n",
    "    clf = train_predict(x_train, x_test, y_train, y_test, kernel = kernel)\n",
    "    if to_plot_boundary:\n",
    "        plot_boundary(x, y, clf)"
   ]
  },
  {
   "cell_type": "code",
   "execution_count": 10,
   "metadata": {},
   "outputs": [
    {
     "name": "stdout",
     "output_type": "stream",
     "text": [
      "Test Score: 0.7368421052631579\n"
     ]
    },
    {
     "data": {
      "image/png": "[encoded data removed]",
      "text/plain": [
       "<Figure size 432x288 with 1 Axes>"
      ]
     },
     "metadata": {},
     "output_type": "display_data"
    }
   ],
   "source": [
    "run(to_plot_boundary = True)"
   ]
  },
  {
   "cell_type": "code",
   "execution_count": null,
   "metadata": {},
   "outputs": [],
   "source": []
  }
 ],
 "metadata": {
  "kernelspec": {
   "display_name": "Python 3",
   "language": "python",
   "name": "python3"
  },
  "language_info": {
   "codemirror_mode": {
    "name": "ipython",
    "version": 3
   },
   "file_extension": ".py",
   "mimetype": "text/x-python",
   "name": "python",
   "nbconvert_exporter": "python",
   "pygments_lexer": "ipython3",
   "version": "3.6.5"
  }
 },
 "nbformat": 4,
 "nbformat_minor": 2
}
