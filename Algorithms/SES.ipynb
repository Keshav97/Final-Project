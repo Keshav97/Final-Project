{
 "cells": [
  {
   "cell_type": "code",
   "execution_count": null,
   "metadata": {},
   "outputs": [],
   "source": [
    "import nbimporter\n",
    "import stats_helper as sh\n",
    "import preprocessing as pp\n",
    "\n",
    "import time\n",
    "import math\n",
    "import numpy as np\n",
    "from matplotlib import pyplot as plt\n",
    "from sklearn.metrics import mean_squared_error, accuracy_score, cohen_kappa_score, confusion_matrix\n"
   ]
  },
  {
   "cell_type": "markdown",
   "metadata": {},
   "source": [
    "# Simple Exponential Smoothing (SES)"
   ]
  },
  {
   "cell_type": "code",
   "execution_count": null,
   "metadata": {},
   "outputs": [],
   "source": [
    "class SES:\n",
    "    \"\"\"\n",
    "        data - dataset with timestamps\n",
    "        alpha - float [0.0, 1.0], smoothing parameter\n",
    "    \"\"\"\n",
    "    \n",
    "    def __init__(self, alpha):\n",
    "        self.alpha = alpha\n",
    "        self.result = list()\n",
    "    \n",
    "    \n",
    "    def fit(self, data_train):\n",
    "        self.data_train = data_train\n",
    "        self.result.append(data_train[0]) # first value is same as data\n",
    "        for n in range(1, len(data_train)):\n",
    "            self.result.append(self.alpha * data_train[n] + (1 - self.alpha) * self.result[n-1])\n",
    "        return self.result\n",
    "    \n",
    "    \n",
    "    # Predicts one point ahead once the data if \n",
    "    def predict_one(self):\n",
    "        return self.result[-1]\n",
    "    \n",
    "    \n",
    "    def predict(self, data_test, is_classification):\n",
    "        data = self.data_train + data_test\n",
    "        \n",
    "        self.result.append(data[0]) # first value is same as data\n",
    "        for n in range(1, len(data)):\n",
    "            self.result.append(self.alpha * data[n] + (1 - self.alpha) * self.result[n-1])\n",
    "        \n",
    "        if is_classification:\n",
    "            binary_returns = sh.output_to_binary_indicators(sh.data_daily_returns(self.result))\n",
    "            return binary_returns[-len(data_test) - 1: -1]\n",
    "        \n",
    "        return self.result[-len(data_test) - 1: -1]"
   ]
  },
  {
   "cell_type": "markdown",
   "metadata": {},
   "source": [
    "## Plotting SES"
   ]
  },
  {
   "cell_type": "code",
   "execution_count": null,
   "metadata": {},
   "outputs": [],
   "source": [
    "\n",
    "def plotExponentialSmoothing(series, alphas):\n",
    "    \"\"\"\n",
    "        Plots exponential smoothing with different alphas\n",
    "        \n",
    "        series - dataset with timestamps\n",
    "        alphas - list of floats, smoothing parameters\n",
    "        \n",
    "    \"\"\"\n",
    "    with plt.style.context('seaborn-white'):    \n",
    "        plt.figure(figsize=(15, 7))\n",
    "        for alpha in alphas:\n",
    "            ses = SES(alpha)\n",
    "            plt.plot(ses.fit(series), label=\"Alpha {}\".format(alpha))\n",
    "        plt.plot(series, \"c\", label = \"Actual\")\n",
    "        plt.legend(loc=\"best\")\n",
    "        plt.axis('tight')\n",
    "        plt.title(\"Exponential Smoothing\")\n",
    "        plt.grid(True);\n",
    "        \n",
    "# plotExponentialSmoothing(values[:100], [0.1, 0.5, 0.8, 0.9])"
   ]
  },
  {
   "cell_type": "code",
   "execution_count": null,
   "metadata": {},
   "outputs": [],
   "source": [
    "def plotSES(original_series, smoothed_series):\n",
    "    plt.figure(figsize=(20, 7))\n",
    "    plt.plot(range(len(original_series)), original_series, 'bo-')\n",
    "    plt.plot(range(len(smoothed_series)), smoothed_series, 'r^--')\n",
    "    plt.show()"
   ]
  },
  {
   "cell_type": "markdown",
   "metadata": {},
   "source": [
    "## Finding optimal parameters"
   ]
  },
  {
   "cell_type": "code",
   "execution_count": null,
   "metadata": {},
   "outputs": [],
   "source": [
    "def print_metric_values(metric_values):\n",
    "    print('Alpha \\t\\t\\t Metric')\n",
    "    for i in range(5): #range(len(metric_values)):\n",
    "        print(metric_values[i][0], '\\t\\t\\t', metric_values[i][1])\n",
    "    print()"
   ]
  },
  {
   "cell_type": "code",
   "execution_count": null,
   "metadata": {},
   "outputs": [],
   "source": [
    "def find_optimal_parameters(data_train, num_splits, alphas, is_classification):\n",
    "    metric_values = list()\n",
    "    if is_classification:\n",
    "        print('Using Accuracy for CV')\n",
    "    else:\n",
    "        print('Using Mean Squared Error for CV')\n",
    "        \n",
    "    for alpha in alphas:\n",
    "#         print(\"Alpha {}\".format(alpha))\n",
    "        ses = SES(alpha)\n",
    "        metric_value = sh.statTimeSeriesCV(data_train, num_splits, ses, is_classification)\n",
    "        metric_values.append([alpha, metric_value])\n",
    "    \n",
    "#     print_metric_values(metric_values)\n",
    "    \n",
    "    if is_classification:\n",
    "        # Sorting by decreasing Accuracy Values\n",
    "        metric_values.sort(reverse=True, key=lambda x: x[len(metric_values) - 1])\n",
    "    else:\n",
    "        # Sorting by increasing error Values\n",
    "        metric_values.sort(reverse=False, key=lambda x: x[len(metric_values) - 1])\n",
    "        \n",
    "    print_metric_values(metric_values)\n",
    "    \n",
    "    return metric_values[0][0]"
   ]
  },
  {
   "cell_type": "markdown",
   "metadata": {},
   "source": [
    "## Using SES for Prediction"
   ]
  },
  {
   "cell_type": "code",
   "execution_count": null,
   "metadata": {},
   "outputs": [],
   "source": [
    "def forecast(data_train, data_test, alpha, is_classification):\n",
    "    print('Alpha: ', alpha)\n",
    "    \n",
    "    ses = SES(alpha)\n",
    "    print('Fitting...')\n",
    "    ses.fit(data_train)\n",
    "    \n",
    "    print('Predicting...') \n",
    "    predictions = ses.predict(data_test, is_classification)\n",
    "    \n",
    "    if is_classification:\n",
    "        bin_data_test = sh.output_to_binary_indicators(sh.data_daily_returns(data_train[-1:] + data_test))\n",
    "        sh.classification_metrics(bin_data_test, predictions)\n",
    "    else:\n",
    "        sh.regression_metrics(data_test, predictions)"
   ]
  },
  {
   "cell_type": "code",
   "execution_count": null,
   "metadata": {},
   "outputs": [],
   "source": [
    "\n",
    "def get_data_ready(symbol_name, alphas, is_classification):\n",
    "    start_time = time.time()\n",
    "    num_splits = 10\n",
    "    print('Data Prep')\n",
    "    data_train, data_test = sh.prepare_data(symbol_name, train_ratio = 0.8)\n",
    "#     alpha = find_optimal_parameters(data_train, num_splits, alphas, is_classification)\n",
    "    alpha = 0.2\n",
    "    end_time = time.time()\n",
    "    print('Time taken for Cross Validation:', end_time - start_time)\n",
    "    \n",
    "    return data_train, data_test, alpha"
   ]
  },
  {
   "cell_type": "code",
   "execution_count": null,
   "metadata": {},
   "outputs": [],
   "source": [
    "def run_SES(symbol_name):\n",
    "    is_classification = False\n",
    "    alphas = np.arange(0, 1, 0.01)\n",
    "    \n",
    "    data_train, data_test, alpha = get_data_ready(symbol_name, alphas, is_classification)\n",
    "    forecast(data_train, data_test, alpha, is_classification = True)"
   ]
  },
  {
   "cell_type": "code",
   "execution_count": null,
   "metadata": {
    "scrolled": false
   },
   "outputs": [],
   "source": [
    "run_SES(symbol_name = 'AMZN')"
   ]
  }
 ],
 "metadata": {
  "kernelspec": {
   "display_name": "Python 3",
   "language": "python",
   "name": "python3"
  },
  "language_info": {
   "codemirror_mode": {
    "name": "ipython",
    "version": 3
   },
   "file_extension": ".py",
   "mimetype": "text/x-python",
   "name": "python",
   "nbconvert_exporter": "python",
   "pygments_lexer": "ipython3",
   "version": "3.6.5"
  },
  "toc": {
   "base_numbering": 1,
   "nav_menu": {},
   "number_sections": true,
   "sideBar": true,
   "skip_h1_title": false,
   "title_cell": "Table of Contents",
   "title_sidebar": "Contents",
   "toc_cell": false,
   "toc_position": {},
   "toc_section_display": true,
   "toc_window_display": false
  }
 },
 "nbformat": 4,
 "nbformat_minor": 2
}
