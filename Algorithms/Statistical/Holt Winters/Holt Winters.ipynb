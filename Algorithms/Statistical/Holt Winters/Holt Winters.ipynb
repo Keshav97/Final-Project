{
 "cells": [
  {
   "cell_type": "markdown",
   "metadata": {},
   "source": [
    "### Holt-Winters Forecasting for Dummies (or Developers)\n",
    "https://grisha.org/blog/2016/01/29/triple-exponential-smoothing-forecasting/"
   ]
  },
  {
   "cell_type": "code",
   "execution_count": 1,
   "metadata": {},
   "outputs": [],
   "source": [
    "series = [3,10,12,13,12,10,12]"
   ]
  },
  {
   "cell_type": "markdown",
   "metadata": {},
   "source": [
    "## Simple Average"
   ]
  },
  {
   "cell_type": "code",
   "execution_count": 2,
   "metadata": {},
   "outputs": [
    {
     "data": {
      "text/plain": [
       "10.285714285714286"
      ]
     },
     "execution_count": 2,
     "metadata": {},
     "output_type": "execute_result"
    }
   ],
   "source": [
    "def average(series):\n",
    "    return float(sum(series))/len(series)\n",
    "\n",
    "average(series)"
   ]
  },
  {
   "cell_type": "markdown",
   "metadata": {},
   "source": [
    "## Moving Average"
   ]
  },
  {
   "cell_type": "code",
   "execution_count": 3,
   "metadata": {},
   "outputs": [
    {
     "name": "stdout",
     "output_type": "stream",
     "text": [
      "moving_average(series, 3):  11.333333333333334\n",
      "moving_average(series, 4):  11.75\n"
     ]
    }
   ],
   "source": [
    "# moving average using n last points\n",
    "def moving_average(series, n):\n",
    "    return average(series[-n:])\n",
    "\n",
    "print('moving_average(series, 3): ', moving_average(series, 3))\n",
    "print('moving_average(series, 4): ', moving_average(series, 4))"
   ]
  },
  {
   "cell_type": "markdown",
   "metadata": {},
   "source": [
    "## General Definition: Both Simple and Moving Average"
   ]
  },
  {
   "cell_type": "code",
   "execution_count": 4,
   "metadata": {},
   "outputs": [
    {
     "name": "stdout",
     "output_type": "stream",
     "text": [
      "general_average(series, 3):  11.333333333333334\n",
      "general_average(series):  10.285714285714286\n"
     ]
    }
   ],
   "source": [
    "def general_average(series, n=None):\n",
    "    if n is None:\n",
    "        return general_average(series, len(series))\n",
    "    return float(sum(series[-n:]))/n\n",
    "\n",
    "print('general_average(series, 3): ', general_average(series, 3))\n",
    "print('general_average(series): ', general_average(series))"
   ]
  },
  {
   "cell_type": "markdown",
   "metadata": {},
   "source": [
    "## Weighted Moving Average"
   ]
  },
  {
   "cell_type": "code",
   "execution_count": 5,
   "metadata": {},
   "outputs": [
    {
     "name": "stdout",
     "output_type": "stream",
     "text": [
      "weighted_average(series, weights):  11.500000000000002\n"
     ]
    }
   ],
   "source": [
    "# weighted average, weights is a list of weights\n",
    "def weighted_average(series, weights):\n",
    "    result = 0.0\n",
    "    weights.reverse()\n",
    "    for n in range(len(weights)):\n",
    "        result += series[-n-1] * weights[n]\n",
    "    return result\n",
    "\n",
    "weights = [0.1, 0.2, 0.3, 0.4]\n",
    "print('weighted_average(series, weights): ', weighted_average(series, weights))"
   ]
  },
  {
   "cell_type": "markdown",
   "metadata": {},
   "source": [
    "## Simple Exponential Smoothing - SES (CHECK!!)"
   ]
  },
  {
   "cell_type": "code",
   "execution_count": 7,
   "metadata": {},
   "outputs": [
    {
     "name": "stdout",
     "output_type": "stream",
     "text": [
      "exponential_smoothing(series, 0.1):  [3, 3.7, 4.53, 5.377, 6.0393, 6.43537, 6.991833]\n",
      "exponential_smoothing(series, 0.9):  [3, 9.3, 11.73, 12.873000000000001, 12.0873, 10.20873, 11.820873]\n"
     ]
    }
   ],
   "source": [
    "# given a series and alpha, return series of smoothed points\n",
    "def exponential_smoothing(series, alpha):\n",
    "    result = [series[0]] # first value is same as series\n",
    "    for n in range(1, len(series)):\n",
    "        result.append(alpha * series[n] + (1 - alpha) * result[n-1])\n",
    "    return result\n",
    "\n",
    "print('exponential_smoothing(series, 0.1): ', exponential_smoothing(series, 0.1))\n",
    "print('exponential_smoothing(series, 0.9): ', exponential_smoothing(series, 0.9))"
   ]
  },
  {
   "cell_type": "markdown",
   "metadata": {},
   "source": [
    "## Double Exponential Smoothing - Holt's Method (CHECK!!)"
   ]
  },
  {
   "cell_type": "code",
   "execution_count": 9,
   "metadata": {},
   "outputs": [
    {
     "name": "stdout",
     "output_type": "stream",
     "text": [
      "double_exponential_smoothing(series, alpha=0.9, beta=0.9): \n",
      " [3, 17.0, 15.45, 14.210500000000001, 11.396044999999999, 8.183803049999998, 12.753698384500002, 13.889016464000003]\n"
     ]
    }
   ],
   "source": [
    "# given a series and alpha, return series of smoothed points\n",
    "def double_exponential_smoothing(series, alpha, beta):\n",
    "    result = [series[0]]\n",
    "    for n in range(1, len(series)+1):\n",
    "        if n == 1:\n",
    "            level, trend = series[0], series[1] - series[0]\n",
    "        if n >= len(series): # we are forecasting\n",
    "          value = result[-1]\n",
    "        else:\n",
    "          value = series[n]\n",
    "        last_level, level = level, alpha*value + (1-alpha)*(level+trend)\n",
    "        trend = beta*(level-last_level) + (1-beta)*trend\n",
    "        result.append(level+trend)\n",
    "    return result\n",
    "\n",
    "print('double_exponential_smoothing(series, alpha=0.9, beta=0.9): \\n', \n",
    "      double_exponential_smoothing(series, alpha=0.9, beta=0.9))"
   ]
  },
  {
   "cell_type": "markdown",
   "metadata": {},
   "source": [
    "## Triple Exponential Smoothing - Holt Winters Method"
   ]
  },
  {
   "cell_type": "code",
   "execution_count": 10,
   "metadata": {},
   "outputs": [],
   "source": [
    "series = [30,21,29,31,40,48,53,47,37,39,31,29,17,9,20,24,27,35,41,38,\n",
    "          27,31,27,26,21,13,21,18,33,35,40,36,22,24,21,20,17,14,17,19,\n",
    "          26,29,40,31,20,24,18,26,17,9,17,21,28,32,46,33,23,28,22,27,\n",
    "          18,8,17,21,31,34,44,38,31,30,26,32]"
   ]
  },
  {
   "cell_type": "code",
   "execution_count": 11,
   "metadata": {},
   "outputs": [
    {
     "data": {
      "text/plain": [
       "-0.7847222222222222"
      ]
     },
     "execution_count": 11,
     "metadata": {},
     "output_type": "execute_result"
    }
   ],
   "source": [
    "def initial_trend(series, slen):\n",
    "    sum = 0.0\n",
    "    for i in range(slen):\n",
    "        sum += float(series[i+slen] - series[i]) / slen\n",
    "    return sum / slen\n",
    "\n",
    "initial_trend(series, 12)"
   ]
  },
  {
   "cell_type": "code",
   "execution_count": 41,
   "metadata": {},
   "outputs": [
    {
     "data": {
      "text/plain": [
       "{0: -7.4305555555555545,\n",
       " 1: -15.097222222222221,\n",
       " 2: -7.263888888888888,\n",
       " 3: -5.097222222222222,\n",
       " 4: 3.402777777777778,\n",
       " 5: 8.069444444444445,\n",
       " 6: 16.569444444444446,\n",
       " 7: 9.736111111111112,\n",
       " 8: -0.7638888888888887,\n",
       " 9: 1.902777777777778,\n",
       " 10: -3.263888888888889,\n",
       " 11: -0.7638888888888887}"
      ]
     },
     "execution_count": 41,
     "metadata": {},
     "output_type": "execute_result"
    }
   ],
   "source": [
    "def initial_seasonal_components(series, slen):\n",
    "    seasonals = {}\n",
    "    season_averages = []\n",
    "    n_seasons = int(len(series)/slen)\n",
    "    # compute season averages\n",
    "    for j in range(n_seasons):\n",
    "        season_averages.append(sum(series[slen*j:slen*j+slen])/float(slen))\n",
    "    # compute initial values\n",
    "    for i in range(slen):\n",
    "        sum_of_vals_over_avg = 0.0\n",
    "        for j in range(n_seasons):\n",
    "            sum_of_vals_over_avg += series[slen*j+i]-season_averages[j]\n",
    "        seasonals[i] = sum_of_vals_over_avg/n_seasons\n",
    "    return seasonals\n",
    "\n",
    "\n",
    "initial_seasonal_components(series, 12)"
   ]
  },
  {
   "cell_type": "code",
   "execution_count": 43,
   "metadata": {},
   "outputs": [
    {
     "data": {
      "text/plain": [
       "[30,\n",
       " 20.34449316666667,\n",
       " 28.410051892109554,\n",
       " 30.438122252647577,\n",
       " 39.466817731253066,\n",
       " 47.54961891047195,\n",
       " 52.52339682497974,\n",
       " 46.53453460769274,\n",
       " 36.558407328055765,\n",
       " 38.56283307754578,\n",
       " 30.51864332437879,\n",
       " 28.425963657825292,\n",
       " 16.30247725646635,\n",
       " 8.228588857142476,\n",
       " 19.30036874234319,\n",
       " 23.38657154193773,\n",
       " 26.323990741396006,\n",
       " 34.356648660113095,\n",
       " 40.36971459184453,\n",
       " 37.44298129818558,\n",
       " 26.469996240541015,\n",
       " 30.51819842804787,\n",
       " 26.580158132275145,\n",
       " 25.556750355604414,\n",
       " 20.59232938487544,\n",
       " 12.557525846506284,\n",
       " 20.536167580315634,\n",
       " 17.449559582909338,\n",
       " 32.589947392978274,\n",
       " 34.559067611499714,\n",
       " 39.524706984702796,\n",
       " 35.54354494552727,\n",
       " 21.507741573047714,\n",
       " 23.48782855767762,\n",
       " 20.541994359470845,\n",
       " 19.543228201110367,\n",
       " 16.60700323688017,\n",
       " 13.697607405158983,\n",
       " 16.621224546074888,\n",
       " 18.619564648649416,\n",
       " 25.57626419227017,\n",
       " 28.544672577127326,\n",
       " 39.62603432821338,\n",
       " 30.578678843303678,\n",
       " 19.58514452366992,\n",
       " 23.614663453052163,\n",
       " 17.606991212001635,\n",
       " 25.767260902774442,\n",
       " 16.759148937441683,\n",
       " 8.712803906763776,\n",
       " 16.72824428057732,\n",
       " 20.7768592516643,\n",
       " 27.760289930117256,\n",
       " 31.74794281311134,\n",
       " 45.85701109377136,\n",
       " 32.77988806685826,\n",
       " 22.769367642515853,\n",
       " 27.80450001645962,\n",
       " 21.806956583618057,\n",
       " 26.862261134868607,\n",
       " 17.863888132693965,\n",
       " 7.79136434612686,\n",
       " 16.79511449881349,\n",
       " 20.831653319362697,\n",
       " 30.885227379775543,\n",
       " 33.87620406969448,\n",
       " 43.8722204956629,\n",
       " 37.93866311702782,\n",
       " 31.017079798498486,\n",
       " 29.952760178336057,\n",
       " 25.95873287479028,\n",
       " 32.01973275816115,\n",
       " 22.42511411230803,\n",
       " 15.343371755223066,\n",
       " 24.14282581581347,\n",
       " 27.02259921391996,\n",
       " 35.31139046245393,\n",
       " 38.999014669337356,\n",
       " 49.243283875692654,\n",
       " 40.84636009563803,\n",
       " 31.205180503707012,\n",
       " 32.96259980122959,\n",
       " 28.5164783238384,\n",
       " 32.30616336737171,\n",
       " 22.737583867810464,\n",
       " 15.655841510725496,\n",
       " 24.4552955713159,\n",
       " 27.33506896942239,\n",
       " 35.62386021795636,\n",
       " 39.31148442483978,\n",
       " 49.55575363119508,\n",
       " 41.15882985114047,\n",
       " 31.517650259209443,\n",
       " 33.275069556732014,\n",
       " 28.82894807934083,\n",
       " 32.618633122874144]"
      ]
     },
     "execution_count": 43,
     "metadata": {},
     "output_type": "execute_result"
    }
   ],
   "source": [
    "def triple_exponential_smoothing(series, slen, alpha, beta, gamma, n_preds):\n",
    "    result = []\n",
    "    seasonals = initial_seasonal_components(series, slen)\n",
    "    for i in range(len(series)+n_preds):\n",
    "        if i == 0: # initial values\n",
    "            smooth = series[0]\n",
    "            trend = initial_trend(series, slen)\n",
    "            result.append(series[0])\n",
    "            continue\n",
    "        if i >= len(series): # we are forecasting\n",
    "            m = i - len(series) + 1\n",
    "            result.append((smooth + m*trend) + seasonals[i%slen])\n",
    "        else:\n",
    "            val = series[i]\n",
    "            last_smooth, smooth = smooth, alpha*(val-seasonals[i%slen]) + (1-alpha)*(smooth+trend)\n",
    "            trend = beta * (smooth-last_smooth) + (1-beta)*trend\n",
    "            seasonals[i%slen] = gamma*(val-smooth) + (1-gamma)*seasonals[i%slen]\n",
    "            result.append(smooth+trend+seasonals[i%slen])\n",
    "    return result\n",
    "\n",
    "# forecast 24 points (i.e. two seasons)\n",
    "triple_exponential_smoothing(series, 12, 0.716, 0.029, 0.993, 24)"
   ]
  },
  {
   "cell_type": "code",
   "execution_count": null,
   "metadata": {},
   "outputs": [],
   "source": []
  }
 ],
 "metadata": {
  "kernelspec": {
   "display_name": "Python 3",
   "language": "python",
   "name": "python3"
  },
  "language_info": {
   "codemirror_mode": {
    "name": "ipython",
    "version": 3
   },
   "file_extension": ".py",
   "mimetype": "text/x-python",
   "name": "python",
   "nbconvert_exporter": "python",
   "pygments_lexer": "ipython3",
   "version": "3.6.5"
  }
 },
 "nbformat": 4,
 "nbformat_minor": 2
}
