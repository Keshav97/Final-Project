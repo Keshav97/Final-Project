{
 "cells": [
  {
   "cell_type": "code",
   "execution_count": 1,
   "metadata": {},
   "outputs": [],
   "source": [
    "# import json\n",
    "import urllib.request\n",
    "import pandas\n",
    "from io import StringIO\n",
    "import time"
   ]
  },
  {
   "cell_type": "code",
   "execution_count": 2,
   "metadata": {},
   "outputs": [],
   "source": [
    "QUERY_URL = \"https://www.alphavantage.co/query?function={REQUEST_TYPE}&apikey={KEY}&symbol={SYMBOL}&outputsize={OUTPUT_SIZE}&datatype=csv\"\n",
    "API_KEY = \"V8WG6ULJBSZWZL6F\" # \"PH2WRE6AIXKDIWC\""
   ]
  },
  {
   "cell_type": "code",
   "execution_count": 3,
   "metadata": {},
   "outputs": [],
   "source": [
    "def _request(symbol, req_type, output_size):\n",
    "    print(QUERY_URL.format(REQUEST_TYPE=req_type, KEY=API_KEY, SYMBOL=symbol, OUTPUT_SIZE=output_size))\n",
    "    req = urllib.request.urlopen(QUERY_URL.format(REQUEST_TYPE=req_type, KEY=API_KEY, SYMBOL=symbol, OUTPUT_SIZE=output_size))\n",
    "    mybytes = req.read()\n",
    "    data = mybytes.decode(\"UTF-8\")\n",
    "    req.close()\n",
    "    return data"
   ]
  },
  {
   "cell_type": "code",
   "execution_count": 4,
   "metadata": {},
   "outputs": [],
   "source": [
    "# def get_daily_data(symbol):\n",
    "#     return json.loads(_request(symbol, 'TIME_SERIES_DAILY'))\n",
    "\n",
    "# print(get_daily_data(\"AAPL\")[\"Time Series (Daily)\"][\"2018-10-02\"])"
   ]
  },
  {
   "cell_type": "code",
   "execution_count": 11,
   "metadata": {},
   "outputs": [],
   "source": [
    "def getDailyData(stock_symbols):\n",
    "#     req_type = 'TIME_SERIES_INTRADAY/DAILY/ADJUSTED/WEEKLY/WEEKLY_ADJUSTED/MONTHLY/MONTHLY_ADJUSTED'\n",
    "    req_type = 'TIME_SERIES_DAILY'\n",
    "#     output_size = 'compact' or 'full'\n",
    "    output_size = 'full'\n",
    "    for i in range(len(stock_symbols)):\n",
    "        if i > 0 and i % 5 == 0:\n",
    "            print(\"Waiting for a minute now!\")\n",
    "            time.sleep(60)\n",
    "            print(\"1 min wait complete!\")\n",
    "        symbol = stock_symbols[i]\n",
    "        data = _request(symbol, req_type, output_size)\n",
    "        df = pandas.read_csv(StringIO(data))\n",
    "        df.to_csv(symbol + '-full-daily.csv')"
   ]
  },
  {
   "cell_type": "code",
   "execution_count": 14,
   "metadata": {},
   "outputs": [],
   "source": [
    "stock_symbols = [\n",
    "                 'ABT', 'ABBV', 'ACN', 'ACE', 'ADBE', 'ADT', 'AAP', 'AES', 'AET', 'AFL', 'AMG', \n",
    "                 'A', 'GAS', 'APD', 'ARG', 'AKAM', 'AA', 'AGN', 'ALXN', 'ALLE', 'ADS', 'ALL', 'ALTR', 'MO', \n",
    "#                  'AMZN', 'AEE', 'AAL', 'AEP', 'AXP', 'AIG', 'AMT', 'AMP', 'ABC', 'AME', 'AMGN', 'APH', 'APC', \n",
    "#                  'ADI', 'AON', 'APA', 'AIV', 'AMAT', 'ADM', 'AIZ', 'T', 'ADSK', 'ADP', 'AN', 'AZO', 'AVGO', \n",
    "#                  'AVB', 'AVY', 'BHI', 'BLL', 'BAC', 'BK', 'BCR', 'BXLT', 'BAX', 'BBT', 'BDX', 'BBBY', 'BRK-B', \n",
    "#                  'BBY', 'BLX', 'HRB', 'BA', 'BWA', 'BXP', 'BSK', 'BMY', 'BRCM', 'BF-B', 'CHRW', 'CA', 'CVC', 'COG', 'CAM', 'CPB', \n",
    "#                  'COF', 'CAH', 'HSIC', 'KMX', 'CCL', 'CAT', 'CBG', 'CBS', 'CELG', 'CNP', 'CTL', 'CERN', 'CF', 'SCHW', 'CHK', 'CVX',\n",
    "#                  'CMG', 'CB', 'CI', 'XEC', 'CINF', 'CTAS', 'CSCO', 'C', 'CTXS', 'CLX', 'CME', 'CMS', 'COH', 'KO', 'CCE', 'CTSH', \n",
    "#                  'CL', 'CMCSA', 'CMA', 'CSC', 'CAG', 'COP', 'CNX', 'ED', 'STZ', 'GLW', 'COST', 'CCI', 'CSX', 'CMI', 'CVS', 'DHI', \n",
    "#                  'DHR', 'DRI', 'DVA', 'DE', 'DLPH', 'DAL', 'XRAY', 'DVN', 'DO', 'DTV', 'DFS', 'DISCA', 'DISCK', \n",
    "#                  'DG', 'DLTR', 'D', 'DOV', 'DOW', 'DPS', 'DTE', 'DD', 'DUK', 'DNB', 'ETFC', 'EMN', 'ETN', 'EBAY', \n",
    "#                  'ECL', 'EIX', 'EW', 'EA', 'EMC', 'EMR', 'ENDP', 'ESV', 'ETR', 'EOG', 'EQT', 'EFX', 'EQIX', 'EQR',\n",
    "#                  'ESS', 'EL', 'ES', 'EXC', 'EXPE', 'EXPD', 'ESRX', 'XOM', 'FFIV', 'FB', 'FAST', 'FDX', 'FIS', 'FITB',\n",
    "#                  'FSLR', 'FE', 'FSIV', 'FLIR', 'FLS', 'FLR', 'FMC', 'FTI', 'F', 'FOSL', 'BEN', 'FCX', 'FTR', 'GME', \n",
    "#                  'GPS', 'GRMN', 'GD', 'GE', 'GGP', 'GIS', 'GM', 'GPC', 'GNW', 'GILD', 'GS', 'GT', 'GOOGL', 'GOOG', \n",
    "#                  'GWW', 'HAL', 'HBI', 'HOG', 'HAR', 'HRS', 'HIG', 'HAS', 'HCA', 'HCP', 'HCN', 'HP', 'HES', 'HPQ', \n",
    "#                  'HD', 'HON', 'HRL', 'HSP', 'HST', 'HCBK', 'HUM', 'HBAN', 'ITW', 'IR', 'INTC', 'ICE', 'IBM', 'IP', \n",
    "#                  'IPG', 'IFF', 'INTU', 'ISRG', 'IVZ', 'IRM', 'JEC', 'JBHT', 'JNJ', 'JCI', 'JOY', 'JPM', 'JNPR', \n",
    "#                  'KSU', 'K', 'KEY', 'GMCR', 'KMB', 'KIM', 'KMI', 'KLAC', 'KSS', 'KRFT', 'KR', 'LB', 'LLL', 'LH', \n",
    "#                  'LRCX', 'LM', 'LEG', 'LEN', 'LVLT', 'LUK', 'LLY', 'LNC', 'LLTC', 'LMT', 'L', 'LOW', 'LYB', 'MTB', \n",
    "#                  'MAC', 'M', 'MNK', 'MRO', 'MPC', 'MAR', 'MMC', 'MLM', 'MAS', 'MA', 'MAT', 'MKC', 'MCD', 'MHFI', \n",
    "#                  'MCK', 'MJN', 'MMV', 'MDT', 'MRK', 'MET', 'KORS', 'MCHP', 'MU', 'MSFT', 'MHK', 'TAP', 'MDLZ', \n",
    "#                  'MON', 'MNST', 'MCO', 'MS', 'MOS', 'MSI', 'MUR', 'MYL', 'NDAQ', 'NOV', 'NAVI', 'NTAP', 'NFLX', 'NWL',\n",
    "#                  'NFX', 'NEM', 'NWSA', 'NEE', 'NLSN', 'NKE', 'NI', 'NE', 'NBL', 'JWN', 'NSC', 'NTRS', 'NOC', 'NRG', \n",
    "#                  'NUE', 'NVDA', 'ORLY', 'OXY', 'OMC', 'OKE', 'ORCL', 'OI', 'PCAR', 'PLL', 'PH', 'PDCO', 'PAYX', \n",
    "#                  'PNR', 'PBCT', 'POM', 'PEP', 'PKI', 'PRGO', 'PFE', 'PCG', 'PM', 'PSX', 'PNW', 'PXD', 'PBI', 'PCL',\n",
    "#                  'PNC', 'RL', 'PPG', 'PPL', 'PX', 'PCP', 'PCLN', 'PFG', 'PG', 'PGR', 'PLD', 'PRU', 'PEG', 'PSA',\n",
    "#                  'PHM', 'PVH', 'QRVO', 'PWR', 'QCOM', 'DGX', 'RRC', 'RTN', 'O', 'RHT', 'REGN', 'RF', 'RSG', 'RAI',\n",
    "#                  'RHI', 'ROK', 'COL', 'ROP', 'ROST', 'RLC', 'R', 'CRM', 'SNDK', 'SCG', 'SLB', 'SNI', 'STX', 'SEE',\n",
    "#                  'SRE', 'SHW', 'SIAL', 'SPG', 'SWKS', 'SLG', 'SJM', 'SNA', 'SO', 'LUV', 'SWN', 'SE', 'STJ', 'SWK', \n",
    "#                  'SPLS', 'SBUX', 'HOT', 'STT', 'SRCL', 'SYK', 'STI', 'SYMC', 'SYY', 'TROW', 'TGT', 'TEL', 'TE', \n",
    "#                  'TGNA', 'THC', 'TDC', 'TSO', 'TXN', 'TXT', 'HSY', 'TRV', 'TMO', 'TIF', 'TWX', 'TWC', 'TJK', 'TMK', \n",
    "#                  'TSS', 'TSCO', 'RIG', 'TRIP', 'FOXA', 'TSN', 'TYC', 'UA', 'UNP', 'UNH', 'UPS', 'URI', 'UTX', 'UHS',\n",
    "#                  'UNM', 'URBN', 'VFC', 'VLO', 'VAR', 'VTR', 'VRSN', 'VZ', 'VRTX', 'VIAB', 'V', 'VNO', 'VMC', 'WMT', \n",
    "#                  'WBA', 'DIS', 'WM', 'WAT', 'ANTM', 'WFC', 'WDC', 'WU', 'WY', 'WHR', 'WFM', 'WMB', 'WEC', 'WYN', \n",
    "#                  'WYNN', 'XEL', 'XRX', 'XLNX', 'XL', 'XYL', 'YHOO', 'YUM', 'ZBH', 'ZION', 'ZTS'\n",
    "                ]"
   ]
  },
  {
   "cell_type": "code",
   "execution_count": 15,
   "metadata": {},
   "outputs": [
    {
     "name": "stdout",
     "output_type": "stream",
     "text": [
      "https://www.alphavantage.co/query?function=TIME_SERIES_DAILY&apikey=V8WG6ULJBSZWZL6F&symbol=ABT&outputsize=full&datatype=csv\n",
      "https://www.alphavantage.co/query?function=TIME_SERIES_DAILY&apikey=V8WG6ULJBSZWZL6F&symbol=ABBV&outputsize=full&datatype=csv\n",
      "https://www.alphavantage.co/query?function=TIME_SERIES_DAILY&apikey=V8WG6ULJBSZWZL6F&symbol=ACN&outputsize=full&datatype=csv\n",
      "https://www.alphavantage.co/query?function=TIME_SERIES_DAILY&apikey=V8WG6ULJBSZWZL6F&symbol=ACE&outputsize=full&datatype=csv\n",
      "https://www.alphavantage.co/query?function=TIME_SERIES_DAILY&apikey=V8WG6ULJBSZWZL6F&symbol=ADBE&outputsize=full&datatype=csv\n",
      "Waiting for a minute now!\n",
      "1 min wait complete!\n",
      "https://www.alphavantage.co/query?function=TIME_SERIES_DAILY&apikey=V8WG6ULJBSZWZL6F&symbol=ADT&outputsize=full&datatype=csv\n",
      "https://www.alphavantage.co/query?function=TIME_SERIES_DAILY&apikey=V8WG6ULJBSZWZL6F&symbol=AAP&outputsize=full&datatype=csv\n",
      "https://www.alphavantage.co/query?function=TIME_SERIES_DAILY&apikey=V8WG6ULJBSZWZL6F&symbol=AES&outputsize=full&datatype=csv\n",
      "https://www.alphavantage.co/query?function=TIME_SERIES_DAILY&apikey=V8WG6ULJBSZWZL6F&symbol=AET&outputsize=full&datatype=csv\n",
      "https://www.alphavantage.co/query?function=TIME_SERIES_DAILY&apikey=V8WG6ULJBSZWZL6F&symbol=AFL&outputsize=full&datatype=csv\n",
      "Waiting for a minute now!\n",
      "1 min wait complete!\n",
      "https://www.alphavantage.co/query?function=TIME_SERIES_DAILY&apikey=V8WG6ULJBSZWZL6F&symbol=AMG&outputsize=full&datatype=csv\n",
      "https://www.alphavantage.co/query?function=TIME_SERIES_DAILY&apikey=V8WG6ULJBSZWZL6F&symbol=A&outputsize=full&datatype=csv\n",
      "https://www.alphavantage.co/query?function=TIME_SERIES_DAILY&apikey=V8WG6ULJBSZWZL6F&symbol=GAS&outputsize=full&datatype=csv\n",
      "https://www.alphavantage.co/query?function=TIME_SERIES_DAILY&apikey=V8WG6ULJBSZWZL6F&symbol=APD&outputsize=full&datatype=csv\n",
      "https://www.alphavantage.co/query?function=TIME_SERIES_DAILY&apikey=V8WG6ULJBSZWZL6F&symbol=ARG&outputsize=full&datatype=csv\n",
      "Waiting for a minute now!\n",
      "1 min wait complete!\n",
      "https://www.alphavantage.co/query?function=TIME_SERIES_DAILY&apikey=V8WG6ULJBSZWZL6F&symbol=AKAM&outputsize=full&datatype=csv\n",
      "https://www.alphavantage.co/query?function=TIME_SERIES_DAILY&apikey=V8WG6ULJBSZWZL6F&symbol=AA&outputsize=full&datatype=csv\n",
      "https://www.alphavantage.co/query?function=TIME_SERIES_DAILY&apikey=V8WG6ULJBSZWZL6F&symbol=AGN&outputsize=full&datatype=csv\n",
      "https://www.alphavantage.co/query?function=TIME_SERIES_DAILY&apikey=V8WG6ULJBSZWZL6F&symbol=ALXN&outputsize=full&datatype=csv\n",
      "https://www.alphavantage.co/query?function=TIME_SERIES_DAILY&apikey=V8WG6ULJBSZWZL6F&symbol=ALLE&outputsize=full&datatype=csv\n",
      "Waiting for a minute now!\n",
      "1 min wait complete!\n",
      "https://www.alphavantage.co/query?function=TIME_SERIES_DAILY&apikey=V8WG6ULJBSZWZL6F&symbol=ADS&outputsize=full&datatype=csv\n",
      "https://www.alphavantage.co/query?function=TIME_SERIES_DAILY&apikey=V8WG6ULJBSZWZL6F&symbol=ALL&outputsize=full&datatype=csv\n",
      "https://www.alphavantage.co/query?function=TIME_SERIES_DAILY&apikey=V8WG6ULJBSZWZL6F&symbol=ALTR&outputsize=full&datatype=csv\n",
      "https://www.alphavantage.co/query?function=TIME_SERIES_DAILY&apikey=V8WG6ULJBSZWZL6F&symbol=MO&outputsize=full&datatype=csv\n"
     ]
    }
   ],
   "source": [
    "getDailyData(stock_symbols)"
   ]
  }
 ],
 "metadata": {
  "kernelspec": {
   "display_name": "Python 3",
   "language": "python",
   "name": "python3"
  },
  "language_info": {
   "codemirror_mode": {
    "name": "ipython",
    "version": 3
   },
   "file_extension": ".py",
   "mimetype": "text/x-python",
   "name": "python",
   "nbconvert_exporter": "python",
   "pygments_lexer": "ipython3",
   "version": "3.6.6"
  }
 },
 "nbformat": 4,
 "nbformat_minor": 2
}
