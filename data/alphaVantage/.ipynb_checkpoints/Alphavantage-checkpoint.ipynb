{
 "cells": [
  {
   "cell_type": "code",
   "execution_count": 2,
   "metadata": {},
   "outputs": [],
   "source": [
    "# import json\n",
    "import urllib.request\n",
    "import pandas\n",
    "from io import StringIO\n",
    "import time"
   ]
  },
  {
   "cell_type": "code",
   "execution_count": 3,
   "metadata": {},
   "outputs": [],
   "source": [
    "QUERY_URL = \"https://www.alphavantage.co/query?function={REQUEST_TYPE}&apikey={KEY}&symbol={SYMBOL}&outputsize={OUTPUT_SIZE}&datatype=csv\"\n",
    "API_KEY = \"V8WG6ULJBSZWZL6F\" # \"PH2WRE6AIXKDIWC\""
   ]
  },
  {
   "cell_type": "code",
   "execution_count": 4,
   "metadata": {},
   "outputs": [],
   "source": [
    "def _request(symbol, req_type, output_size):\n",
    "    print(QUERY_URL.format(REQUEST_TYPE=req_type, KEY=API_KEY, SYMBOL=symbol, OUTPUT_SIZE=output_size))\n",
    "    req = urllib.request.urlopen(QUERY_URL.format(REQUEST_TYPE=req_type, KEY=API_KEY, SYMBOL=symbol, OUTPUT_SIZE=output_size))\n",
    "    mybytes = req.read()\n",
    "    data = mybytes.decode(\"UTF-8\")\n",
    "    req.close()\n",
    "    return data"
   ]
  },
  {
   "cell_type": "code",
   "execution_count": 5,
   "metadata": {},
   "outputs": [],
   "source": [
    "# def get_daily_data(symbol):\n",
    "#     return json.loads(_request(symbol, 'TIME_SERIES_DAILY'))\n",
    "\n",
    "# print(get_daily_data(\"AAPL\")[\"Time Series (Daily)\"][\"2018-10-02\"])"
   ]
  },
  {
   "cell_type": "code",
   "execution_count": 6,
   "metadata": {},
   "outputs": [],
   "source": [
    "def getDailyData(stock_symbols):\n",
    "#     req_type = 'TIME_SERIES_INTRADAY/DAILY/DAILY_ADJUSTED/WEEKLY/WEEKLY_ADJUSTED/MONTHLY/MONTHLY_ADJUSTED'\n",
    "    req_type = 'TIME_SERIES_DAILY_ADJUSTED'\n",
    "#     output_size = 'compact' or 'full'\n",
    "    output_size = 'full'\n",
    "    for i in range(len(stock_symbols)):\n",
    "        if i > 0 and i % 5 == 0:\n",
    "            print(\"Waiting for a minute now!\")\n",
    "            time.sleep(60)\n",
    "            print(\"1 min wait complete!\")\n",
    "        symbol = stock_symbols[i]\n",
    "        data = _request(symbol, req_type, output_size)\n",
    "        df = pandas.read_csv(StringIO(data))\n",
    "        df.to_csv(symbol + '-' + output_size + '-daily_adjusted.csv')"
   ]
  },
  {
   "cell_type": "code",
   "execution_count": 7,
   "metadata": {},
   "outputs": [],
   "source": [
    "# stock_symbols = [\n",
    "#     'DJI',      # Dow Jones Industrial Average\n",
    "#     'IXIC',     # Nasdaq Composite Index\n",
    "#     'INX',      # Standard and Poor's 500 Index\n",
    "#     'NYA',      # NYSE Composite Index\n",
    "#     'MSFT',     # Microsoft\n",
    "#     'AAPL',     # Apple\n",
    "#     'AMZN',     # Amazon\n",
    "#     'DIS',      # Walt Disney\n",
    "#     'SBUX',     # Starbucks\n",
    "#     'TWTR',     # Twitter\n",
    "#     'YHOO',     # Yahoo\n",
    "#     'GM',       # General Motors\n",
    "#     'BLK',      # Blackrock\n",
    "#     \n",
    "#     \n",
    "#     \n",
    "#     'OIL',      # Oil -- IPATH S&P GSCI CRUDE OL SRS B ETN\n",
    "#     'WEAT',     # Wheat\n",
    "#     'XNG',      # Natural Gas\n",
    "#     'CORN',     # Corn\n",
    "#     \n",
    "#     \n",
    "#     \n",
    "#     'SP400',    # S&P MidCap 400\n",
    "#     'SP600',    # S&P SmallCap 600\n",
    "#     'SP1500',   # S&P Composite 1500\n",
    "#     'W5000FLT', # Wilshire 5000 Total Market Index\n",
    "#     'RUI',      # Russell 1000\n",
    "#     'RUT',      # Russell 2000 \n",
    "#     'RUA',      # Russell 3000 Index\n",
    "# ]\n",
    "\n",
    "stock_symbols = [\n",
    "    'ACN',      # Accenture\n",
    "    'AAPL',     # AAPl\n",
    "    'AMZN',     # Amazon\n",
    "    'BAC',      # Bank of America\n",
    "    'BRK.B',    # Berkshire Hathaway\n",
    "    'BA',       # Boeing Company\n",
    "    'CMG',      # Chipotle Mexican Grill\n",
    "    'CVS',      # CVS Health\n",
    "    'EA',       # Electronic Arts\n",
    "    'FDX',      # FedEx Corporation\n",
    "    'JNJ',      # Johnson & Johnson\n",
    "    'KO',       # Coca-Cola Company\n",
    "    'T',        # AT&T \n",
    "    'WMT',      # Walmart\n",
    "    'XOM',      # Exxon Mobil\n",
    "]"
   ]
  },
  {
   "cell_type": "code",
   "execution_count": 8,
   "metadata": {},
   "outputs": [
    {
     "name": "stdout",
     "output_type": "stream",
     "text": [
      "https://www.alphavantage.co/query?function=TIME_SERIES_DAILY_ADJUSTED&apikey=V8WG6ULJBSZWZL6F&symbol=ACN&outputsize=full&datatype=csv\n",
      "https://www.alphavantage.co/query?function=TIME_SERIES_DAILY_ADJUSTED&apikey=V8WG6ULJBSZWZL6F&symbol=BAC&outputsize=full&datatype=csv\n",
      "https://www.alphavantage.co/query?function=TIME_SERIES_DAILY_ADJUSTED&apikey=V8WG6ULJBSZWZL6F&symbol=BRK.B&outputsize=full&datatype=csv\n",
      "https://www.alphavantage.co/query?function=TIME_SERIES_DAILY_ADJUSTED&apikey=V8WG6ULJBSZWZL6F&symbol=BA&outputsize=full&datatype=csv\n",
      "https://www.alphavantage.co/query?function=TIME_SERIES_DAILY_ADJUSTED&apikey=V8WG6ULJBSZWZL6F&symbol=CMG&outputsize=full&datatype=csv\n",
      "Waiting for a minute now!\n",
      "1 min wait complete!\n",
      "https://www.alphavantage.co/query?function=TIME_SERIES_DAILY_ADJUSTED&apikey=V8WG6ULJBSZWZL6F&symbol=CVS&outputsize=full&datatype=csv\n",
      "https://www.alphavantage.co/query?function=TIME_SERIES_DAILY_ADJUSTED&apikey=V8WG6ULJBSZWZL6F&symbol=EA&outputsize=full&datatype=csv\n",
      "https://www.alphavantage.co/query?function=TIME_SERIES_DAILY_ADJUSTED&apikey=V8WG6ULJBSZWZL6F&symbol=FDX&outputsize=full&datatype=csv\n",
      "https://www.alphavantage.co/query?function=TIME_SERIES_DAILY_ADJUSTED&apikey=V8WG6ULJBSZWZL6F&symbol=JNJ&outputsize=full&datatype=csv\n",
      "https://www.alphavantage.co/query?function=TIME_SERIES_DAILY_ADJUSTED&apikey=V8WG6ULJBSZWZL6F&symbol=KO&outputsize=full&datatype=csv\n",
      "Waiting for a minute now!\n",
      "1 min wait complete!\n",
      "https://www.alphavantage.co/query?function=TIME_SERIES_DAILY_ADJUSTED&apikey=V8WG6ULJBSZWZL6F&symbol=T&outputsize=full&datatype=csv\n",
      "https://www.alphavantage.co/query?function=TIME_SERIES_DAILY_ADJUSTED&apikey=V8WG6ULJBSZWZL6F&symbol=WMT&outputsize=full&datatype=csv\n",
      "https://www.alphavantage.co/query?function=TIME_SERIES_DAILY_ADJUSTED&apikey=V8WG6ULJBSZWZL6F&symbol=XOM&outputsize=full&datatype=csv\n"
     ]
    }
   ],
   "source": [
    "getDailyData(stock_symbols)"
   ]
  }
 ],
 "metadata": {
  "kernelspec": {
   "display_name": "Python 3",
   "language": "python",
   "name": "python3"
  },
  "language_info": {
   "codemirror_mode": {
    "name": "ipython",
    "version": 3
   },
   "file_extension": ".py",
   "mimetype": "text/x-python",
   "name": "python",
   "nbconvert_exporter": "python",
   "pygments_lexer": "ipython3",
   "version": "3.6.5"
  },
  "toc": {
   "base_numbering": 1,
   "nav_menu": {},
   "number_sections": true,
   "sideBar": true,
   "skip_h1_title": false,
   "title_cell": "Table of Contents",
   "title_sidebar": "Contents",
   "toc_cell": false,
   "toc_position": {},
   "toc_section_display": true,
   "toc_window_display": false
  }
 },
 "nbformat": 4,
 "nbformat_minor": 2
}
