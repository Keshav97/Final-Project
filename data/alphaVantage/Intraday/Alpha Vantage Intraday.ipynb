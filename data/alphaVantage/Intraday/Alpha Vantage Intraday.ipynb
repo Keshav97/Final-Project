{
 "cells": [
  {
   "cell_type": "code",
   "execution_count": 1,
   "metadata": {},
   "outputs": [],
   "source": [
    "# import json\n",
    "import urllib.request\n",
    "import pandas\n",
    "from io import StringIO\n",
    "import time"
   ]
  },
  {
   "cell_type": "code",
   "execution_count": 2,
   "metadata": {},
   "outputs": [],
   "source": [
    "QUERY_URL = \"https://www.alphavantage.co/query?function={REQUEST_TYPE}&apikey={KEY}&symbol={SYMBOL}&interval={INTERVAL}&outputsize={OUTPUT_SIZE}&datatype=csv\"\n",
    "API_KEY = \"V8WG6ULJBSZWZL6F\" # \"PH2WRE6AIXKDIWC\""
   ]
  },
  {
   "cell_type": "code",
   "execution_count": 3,
   "metadata": {},
   "outputs": [],
   "source": [
    "def _request(symbol, req_type, output_size, interval):\n",
    "    print(QUERY_URL.format(REQUEST_TYPE=req_type, KEY=API_KEY, SYMBOL=symbol, INTERVAL=interval, OUTPUT_SIZE=output_size))\n",
    "    req = urllib.request.urlopen(QUERY_URL.format(REQUEST_TYPE=req_type, KEY=API_KEY, SYMBOL=symbol, INTERVAL=interval, OUTPUT_SIZE=output_size))\n",
    "    mybytes = req.read()\n",
    "    data = mybytes.decode(\"UTF-8\")\n",
    "    req.close()\n",
    "    return data"
   ]
  },
  {
   "cell_type": "code",
   "execution_count": 4,
   "metadata": {},
   "outputs": [],
   "source": [
    "# def get_daily_data(symbol):\n",
    "#     return json.loads(_request(symbol, 'TIME_SERIES_DAILY'))\n",
    "\n",
    "# print(get_daily_data(\"AAPL\")[\"Time Series (Daily)\"][\"2018-10-02\"])"
   ]
  },
  {
   "cell_type": "code",
   "execution_count": 5,
   "metadata": {},
   "outputs": [],
   "source": [
    "def getDailyData(stock_symbols):\n",
    "#     req_type = 'TIME_SERIES_INTRADAY/DAILY/ADJUSTED/WEEKLY/WEEKLY_ADJUSTED/MONTHLY/MONTHLY_ADJUSTED'\n",
    "    req_type = 'TIME_SERIES_INTRADAY'\n",
    "#     output_size = 'compact' or 'full'\n",
    "    output_size = 'full'\n",
    "    \n",
    "#     interval= 1min, 5min, 15min, 30min, 60min\n",
    "    interval = '1min'\n",
    "    \n",
    "    for i in range(len(stock_symbols)):\n",
    "        if i > 0 and i % 5 == 0:\n",
    "            print(\"Waiting for a minute now!\")\n",
    "            time.sleep(60)\n",
    "            print(\"1 min wait complete!\")\n",
    "        symbol = stock_symbols[i]\n",
    "        data = _request(symbol, req_type, output_size, interval)\n",
    "        df = pandas.read_csv(StringIO(data))\n",
    "        df.to_csv(symbol + '-' + output_size + '-' + interval + '-intraday.csv')"
   ]
  },
  {
   "cell_type": "code",
   "execution_count": null,
   "metadata": {},
   "outputs": [],
   "source": []
  },
  {
   "cell_type": "code",
   "execution_count": 6,
   "metadata": {},
   "outputs": [],
   "source": [
    "stock_symbols = [\n",
    "    'DJI',      # Dow Jones Industrial Average\n",
    "    'IXIC',     # Nasdaq Composite Index\n",
    "    'INX',      # Standard and Poor's 500 Index\n",
    "#     'NYA',      # NYSE Composite Index\n",
    "    'MSFT',     # Microsoft\n",
    "    'AAPL',     # Apple\n",
    "    \n",
    "#     'SP400',    # S&P MidCap 400\n",
    "#     'SP600',    # S&P SmallCap 600\n",
    "#     'SP1500',   # S&P Composite 1500\n",
    "#     'W5000FLT', # Wilshire 5000 Total Market Index\n",
    "#     'RUI',      # Russell 1000\n",
    "#     'RUT',      # Russell 2000 \n",
    "#     'RUA',      # Russell 3000 Index\n",
    "]"
   ]
  },
  {
   "cell_type": "code",
   "execution_count": 7,
   "metadata": {},
   "outputs": [
    {
     "name": "stdout",
     "output_type": "stream",
     "text": [
      "https://www.alphavantage.co/query?function=TIME_SERIES_INTRADAY&apikey=V8WG6ULJBSZWZL6F&symbol=DJI&interval=1min&outputsize=full&datatype=csv\n",
      "https://www.alphavantage.co/query?function=TIME_SERIES_INTRADAY&apikey=V8WG6ULJBSZWZL6F&symbol=IXIC&interval=1min&outputsize=full&datatype=csv\n",
      "https://www.alphavantage.co/query?function=TIME_SERIES_INTRADAY&apikey=V8WG6ULJBSZWZL6F&symbol=INX&interval=1min&outputsize=full&datatype=csv\n",
      "https://www.alphavantage.co/query?function=TIME_SERIES_INTRADAY&apikey=V8WG6ULJBSZWZL6F&symbol=MSFT&interval=1min&outputsize=full&datatype=csv\n",
      "https://www.alphavantage.co/query?function=TIME_SERIES_INTRADAY&apikey=V8WG6ULJBSZWZL6F&symbol=AAPL&interval=1min&outputsize=full&datatype=csv\n"
     ]
    }
   ],
   "source": [
    "getDailyData(stock_symbols)"
   ]
  }
 ],
 "metadata": {
  "kernelspec": {
   "display_name": "Python 3",
   "language": "python",
   "name": "python3"
  },
  "language_info": {
   "codemirror_mode": {
    "name": "ipython",
    "version": 3
   },
   "file_extension": ".py",
   "mimetype": "text/x-python",
   "name": "python",
   "nbconvert_exporter": "python",
   "pygments_lexer": "ipython3",
   "version": "3.6.6"
  }
 },
 "nbformat": 4,
 "nbformat_minor": 2
}
