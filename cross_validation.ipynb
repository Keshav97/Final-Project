{
 "cells": [
  {
   "cell_type": "code",
   "execution_count": 27,
   "metadata": {},
   "outputs": [],
   "source": [
    "import numpy as np\n",
    "from sklearn.model_selection import TimeSeriesSplit\n",
    "from sklearn.model_selection import RepeatedKFold"
   ]
  },
  {
   "cell_type": "code",
   "execution_count": 5,
   "metadata": {},
   "outputs": [],
   "source": [
    "X = np.array([[1, 2], [3, 4], [1, 2], [3, 4], [1, 2], [3, 4]])\n",
    "Y = y = np.array([1, 2, 3, 4, 5, 6])"
   ]
  },
  {
   "cell_type": "markdown",
   "metadata": {},
   "source": [
    "### Cross Validation on a Rolling Basis\n",
    "\n",
    "we train our model on a small segment of the time series from the beginning until some  𝑡 , make predictions for the next  𝑡+𝑛 steps, and calculate an error. Then, we expand our training sample to  𝑡+𝑛  value, make predictions from  𝑡+𝑛  until  𝑡+2∗𝑛 , and continue moving our test segment of the time series until we hit the last available observation. As a result, we have as many folds as  𝑛  will fit between the initial training sample and the last observation.  \n",
    "http://scikit-learn.org/stable/modules/generated/sklearn.model_selection.TimeSeriesSplit.html"
   ]
  },
  {
   "cell_type": "code",
   "execution_count": 20,
   "metadata": {},
   "outputs": [],
   "source": [
    "def rolling_cross_validation(X, Y, num_splits = -1):\n",
    "    \n",
    "    if num_splits <= 0 or num_splits >= len(X):\n",
    "        num_splits = len(X) - 1\n",
    "        \n",
    "    tscv = TimeSeriesSplit(n_splits = num_splits)\n",
    "    print(tscv)\n",
    "    \n",
    "    for train, test in tscv.split(X):\n",
    "#         print(\"Train: %s Test: %s\" % (train, test))\n",
    "        print(\"Test: %s Train: %s\" % (test, train))\n",
    "        X_train, Y_train = X[train], Y[train]\n",
    "        X_test, Y_test = X[test], Y[test]"
   ]
  },
  {
   "cell_type": "code",
   "execution_count": 26,
   "metadata": {},
   "outputs": [
    {
     "name": "stdout",
     "output_type": "stream",
     "text": [
      "TimeSeriesSplit(max_train_size=None, n_splits=4)\n",
      "Test: [2] Train: [0 1]\n",
      "Test: [3] Train: [0 1 2]\n",
      "Test: [4] Train: [0 1 2 3]\n",
      "Test: [5] Train: [0 1 2 3 4]\n"
     ]
    }
   ],
   "source": [
    "rolling_cross_validation(X, Y, 4)"
   ]
  }
 ],
 "metadata": {
  "kernelspec": {
   "display_name": "Python 3",
   "language": "python",
   "name": "python3"
  },
  "language_info": {
   "codemirror_mode": {
    "name": "ipython",
    "version": 3
   },
   "file_extension": ".py",
   "mimetype": "text/x-python",
   "name": "python",
   "nbconvert_exporter": "python",
   "pygments_lexer": "ipython3",
   "version": "3.6.5"
  }
 },
 "nbformat": 4,
 "nbformat_minor": 2
}
